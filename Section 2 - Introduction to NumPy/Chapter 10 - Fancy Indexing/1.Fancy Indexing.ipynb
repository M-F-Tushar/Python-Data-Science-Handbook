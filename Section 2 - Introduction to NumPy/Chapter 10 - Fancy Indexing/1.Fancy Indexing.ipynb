{
 "cells": [
  {
   "cell_type": "markdown",
   "id": "f3cb76f8",
   "metadata": {},
   "source": [
    "1. Exploring Fancy Indexing"
   ]
  },
  {
   "cell_type": "code",
   "execution_count": 2,
   "id": "72862875",
   "metadata": {},
   "outputs": [
    {
     "name": "stdout",
     "output_type": "stream",
     "text": [
      "[72 81 86 35 17 46 26 63 40 49]\n"
     ]
    }
   ],
   "source": [
    "import numpy as np\n",
    "rng = np.random.default_rng()\n",
    "\n",
    "x = rng.integers(100, size=10)\n",
    "print(x)"
   ]
  },
  {
   "cell_type": "code",
   "execution_count": 4,
   "id": "e9cc94ed",
   "metadata": {},
   "outputs": [
    {
     "data": {
      "text/plain": [
       "[np.int64(35), np.int64(63), np.int64(86)]"
      ]
     },
     "execution_count": 4,
     "metadata": {},
     "output_type": "execute_result"
    }
   ],
   "source": [
    "# Suppose we want to excess three different elemets\n",
    "[x[3], x[7], x[2]]"
   ]
  },
  {
   "cell_type": "code",
   "execution_count": 5,
   "id": "aff6cfe0",
   "metadata": {},
   "outputs": [
    {
     "data": {
      "text/plain": [
       "array([35, 63, 17])"
      ]
     },
     "execution_count": 5,
     "metadata": {},
     "output_type": "execute_result"
    }
   ],
   "source": [
    "# Alternatively, we can pass a single list or array of indices to obtain the same result\n",
    "ind = [3, 7, 4]\n",
    "x[ind]"
   ]
  },
  {
   "cell_type": "code",
   "execution_count": 6,
   "id": "5a5bd751",
   "metadata": {},
   "outputs": [
    {
     "data": {
      "text/plain": [
       "array([[35, 63],\n",
       "       [17, 46]])"
      ]
     },
     "execution_count": 6,
     "metadata": {},
     "output_type": "execute_result"
    }
   ],
   "source": [
    "# When using arrays of indices, the shape of the result reflects the shape of the index\n",
    "# arrays rather than the shape of the array being indexed:\n",
    "ind = np.array([[3, 7],\n",
    "                [4, 5]])\n",
    "x[ind]"
   ]
  },
  {
   "cell_type": "code",
   "execution_count": 8,
   "id": "6c961722",
   "metadata": {},
   "outputs": [
    {
     "data": {
      "text/plain": [
       "array([[ 0,  1,  2,  3],\n",
       "       [ 4,  5,  6,  7],\n",
       "       [ 8,  9, 10, 11]])"
      ]
     },
     "execution_count": 8,
     "metadata": {},
     "output_type": "execute_result"
    }
   ],
   "source": [
    "# Fancy indexing also works in multiple dimensions.\n",
    "X = np.arange(12).reshape((3, 4))\n",
    "X"
   ]
  },
  {
   "cell_type": "code",
   "execution_count": 9,
   "id": "0bae08a6",
   "metadata": {},
   "outputs": [
    {
     "data": {
      "text/plain": [
       "array([ 2,  5, 11])"
      ]
     },
     "execution_count": 9,
     "metadata": {},
     "output_type": "execute_result"
    }
   ],
   "source": [
    "row = np.array([0, 1, 2])\n",
    "col = np.array([2, 1, 3])\n",
    "X[row, col]"
   ]
  },
  {
   "cell_type": "code",
   "execution_count": 10,
   "id": "6504f054",
   "metadata": {},
   "outputs": [
    {
     "data": {
      "text/plain": [
       "array([[ 2,  1,  3],\n",
       "       [ 6,  5,  7],\n",
       "       [10,  9, 11]])"
      ]
     },
     "execution_count": 10,
     "metadata": {},
     "output_type": "execute_result"
    }
   ],
   "source": [
    "X[row[:, np.newaxis], col]"
   ]
  },
  {
   "cell_type": "code",
   "execution_count": 11,
   "id": "4c557648",
   "metadata": {},
   "outputs": [
    {
     "data": {
      "text/plain": [
       "array([[0, 0, 0],\n",
       "       [2, 1, 3],\n",
       "       [4, 2, 6]])"
      ]
     },
     "execution_count": 11,
     "metadata": {},
     "output_type": "execute_result"
    }
   ],
   "source": [
    "row[:, np.newaxis] * col"
   ]
  },
  {
   "cell_type": "markdown",
   "id": "1e02a503",
   "metadata": {},
   "source": [
    "2. Combined Indexing"
   ]
  },
  {
   "cell_type": "code",
   "execution_count": 12,
   "id": "d2793051",
   "metadata": {},
   "outputs": [
    {
     "name": "stdout",
     "output_type": "stream",
     "text": [
      "[[ 0  1  2  3]\n",
      " [ 4  5  6  7]\n",
      " [ 8  9 10 11]]\n"
     ]
    }
   ],
   "source": [
    "print(X)"
   ]
  },
  {
   "cell_type": "code",
   "execution_count": 13,
   "id": "5104547e",
   "metadata": {},
   "outputs": [
    {
     "data": {
      "text/plain": [
       "array([10,  8,  9])"
      ]
     },
     "execution_count": 13,
     "metadata": {},
     "output_type": "execute_result"
    }
   ],
   "source": [
    "# We can combine fancy and simple indices:\n",
    "X[2, [2, 0, 1]]"
   ]
  },
  {
   "cell_type": "code",
   "execution_count": 14,
   "id": "a6d79fb3",
   "metadata": {},
   "outputs": [
    {
     "data": {
      "text/plain": [
       "array([[ 6,  4,  5],\n",
       "       [10,  8,  9]])"
      ]
     },
     "execution_count": 14,
     "metadata": {},
     "output_type": "execute_result"
    }
   ],
   "source": [
    "# We can also combine fancy indexing with slicing:\n",
    "X[1:, [2, 0, 1]]"
   ]
  },
  {
   "cell_type": "code",
   "execution_count": 15,
   "id": "32fd58f2",
   "metadata": {},
   "outputs": [
    {
     "data": {
      "text/plain": [
       "array([[ 0,  2],\n",
       "       [ 4,  6],\n",
       "       [ 8, 10]])"
      ]
     },
     "execution_count": 15,
     "metadata": {},
     "output_type": "execute_result"
    }
   ],
   "source": [
    "# we can combine fancy indexing with masking:\n",
    "mask = np.array([True, False, True, False])\n",
    "X[row[:, np.newaxis], mask]"
   ]
  },
  {
   "cell_type": "code",
   "execution_count": 16,
   "id": "47455219",
   "metadata": {},
   "outputs": [
    {
     "data": {
      "text/plain": [
       "(100, 2)"
      ]
     },
     "execution_count": 16,
     "metadata": {},
     "output_type": "execute_result"
    }
   ],
   "source": [
    "# Example: Selecting Random Points\n",
    "mean = [0, 0]\n",
    "cov = [[1, 2],\n",
    "       [2, 5]]\n",
    "X = rng.multivariate_normal(mean, cov, 100)\n",
    "X.shape"
   ]
  },
  {
   "cell_type": "code",
   "execution_count": 18,
   "id": "06485bce",
   "metadata": {},
   "outputs": [
    {
     "data": {
      "image/png": "[encoded data removed]",
      "text/plain": [
       "<Figure size 640x480 with 1 Axes>"
      ]
     },
     "metadata": {},
     "output_type": "display_data"
    }
   ],
   "source": [
    "%matplotlib inline\n",
    "import seaborn as sns\n",
    "import matplotlib.pyplot as plt\n",
    "plt.scatter(X[:, 0], X[:, 1]);\n",
    "plt.show();"
   ]
  },
  {
   "cell_type": "code",
   "execution_count": 20,
   "id": "4f422e1a",
   "metadata": {},
   "outputs": [
    {
     "data": {
      "text/plain": [
       "array([48, 91, 17, 71, 70, 89, 81, 83, 35, 92, 65, 16, 24,  0, 49, 63, 10,\n",
       "       72, 82, 20], dtype=int32)"
      ]
     },
     "execution_count": 20,
     "metadata": {},
     "output_type": "execute_result"
    }
   ],
   "source": [
    "indices = np.random.choice(X.shape[0], size=20, replace=False) # Randomly select 20 points without replacement\n",
    "indices"
   ]
  },
  {
   "cell_type": "code",
   "execution_count": 21,
   "id": "ddee9e4a",
   "metadata": {},
   "outputs": [
    {
     "data": {
      "text/plain": [
       "(20, 2)"
      ]
     },
     "execution_count": 21,
     "metadata": {},
     "output_type": "execute_result"
    }
   ],
   "source": [
    "selection = X[indices] # Select the points using fancy indexing\n",
    "selection.shape "
   ]
  },
  {
   "cell_type": "code",
   "execution_count": 23,
   "id": "5ef1b935",
   "metadata": {},
   "outputs": [
    {
     "data": {
      "image/png": "[encoded data removed]",
      "text/plain": [
       "<Figure size 640x480 with 1 Axes>"
      ]
     },
     "metadata": {},
     "output_type": "display_data"
    }
   ],
   "source": [
    "plt.scatter(X[:, 0], X[:, 1], alpha=0.3) # Plot all points with some transparency\n",
    "plt.scatter(selection[:, 0], selection[:, 1], # Plot the selected points\n",
    "            facecolor='none', edgecolor='black', s=200); # Show the plot\n",
    "plt.show();"
   ]
  },
  {
   "cell_type": "markdown",
   "id": "a9a79531",
   "metadata": {},
   "source": [
    "4. Modifying Values with Fancy Indexing"
   ]
  },
  {
   "cell_type": "code",
   "execution_count": 27,
   "id": "7b4f46a3",
   "metadata": {},
   "outputs": [
    {
     "name": "stdout",
     "output_type": "stream",
     "text": [
      "[ 0 99 99  3 99  5  6  7 99  9]\n"
     ]
    }
   ],
   "source": [
    "import numpy as np\n",
    "\n",
    "x = np.arange(10)  # or some range you want\n",
    "i = np.array([2, 1, 8, 4])\n",
    "x[i] = 99\n",
    "print(x)\n"
   ]
  },
  {
   "cell_type": "code",
   "execution_count": 28,
   "id": "adef6495",
   "metadata": {},
   "outputs": [
    {
     "name": "stdout",
     "output_type": "stream",
     "text": [
      "[ 0 89 89  3 89  5  6  7 89  9]\n"
     ]
    }
   ],
   "source": [
    "x[i] -= 10  # Subtract 10 from the elements at indices i\n",
    "print(x)\n"
   ]
  },
  {
   "cell_type": "code",
   "execution_count": 31,
   "id": "f711d3f8",
   "metadata": {},
   "outputs": [
    {
     "name": "stdout",
     "output_type": "stream",
     "text": [
      "[6. 0. 0. 0. 0. 0. 0. 0. 0. 0.]\n"
     ]
    }
   ],
   "source": [
    "x = np.zeros(10)\n",
    "x[[0, 0]] = [4, 6] # Assigning multiple values to the same index\n",
    "print(x)\n"
   ]
  },
  {
   "cell_type": "code",
   "execution_count": null,
   "id": "2d98b65b",
   "metadata": {},
   "outputs": [
    {
     "data": {
      "text/plain": [
       "array([6., 0., 1., 1., 1., 0., 0., 0., 0., 0.])"
      ]
     },
     "execution_count": 32,
     "metadata": {},
     "output_type": "execute_result"
    }
   ],
   "source": [
    "i = [2, 3, 3, 4, 4, 4]\n",
    "x[i] += 1\n",
    "x\n",
    "# When you do x[i] += 1, NumPy:\n",
    "\n",
    "# Indexes into x using i → creates a temporary array like [x[2], x[3], x[3], x[4], x[4], x[4]]\n",
    "\n",
    "# Adds 1 to that temporary array → [1, 1, 1, 1, 1, 1]\n",
    "\n",
    "# Tries to assign the results back to the same indices, but since it's done element-wise and not by accumulating over indices, repeats overwrite each other.\n",
    "\n",
    "# So instead of accumulating:\n",
    "\n",
    "# x[3] is written to twice — but the second write just overwrites the first.\n",
    "\n",
    "# x[4] is written to three times — again, just overwritten."
   ]
  },
  {
   "cell_type": "code",
   "execution_count": null,
   "id": "2a383f93",
   "metadata": {},
   "outputs": [
    {
     "name": "stdout",
     "output_type": "stream",
     "text": [
      "[0. 0. 1. 2. 3. 0. 0. 0. 0. 0.]\n"
     ]
    }
   ],
   "source": [
    "x = np.zeros(10)\n",
    "np.add.at(x, i, 1)  # Use np.add.at to accumulate values at indices\n",
    "print(x)\n",
    "\n",
    "# What this does:\n",
    "# x = np.zeros(10) creates a NumPy array of 10 zeros.\n",
    "\n",
    "# np.add.at(x, i, 1) performs in-place, repeated-index-safe addition:\n",
    "\n",
    "# x[2] += 1 → now 1\n",
    "\n",
    "# x[3] += 1 twice → now 2\n",
    "\n",
    "# x[4] += 1 three times → now 3"
   ]
  },
  {
   "cell_type": "code",
   "execution_count": 34,
   "id": "96fd6a91",
   "metadata": {},
   "outputs": [],
   "source": [
    "# Example: Binning Data"
   ]
  },
  {
   "cell_type": "code",
   "execution_count": null,
   "id": "8aa7b3e1",
   "metadata": {},
   "outputs": [],
   "source": [
    "rng = np.random.default_rng(seed=1701)\n",
    "x = rng.normal(size=100)\n",
    "\n",
    "# compute a histogram by hand\n",
    "bins = np.linspace(-5, 5, 20) #Creates 20 evenly spaced values between -5 and 5. These define the bin edges for the histogram. There will be 19 bins between these 20 edges.\n",
    "counts = np.zeros_like(bins) # Initializes an array counts with 19 zeros — one for each bin. We'll increment this array to count how many values fall into each bin.\n",
    "\n",
    "# find the appropriate bin for each x\n",
    "i = np.searchsorted(bins, x)\n",
    "\n",
    "# add 1 to each of these bins\n",
    "np.add.at(counts, i, 1)"
   ]
  },
  {
   "cell_type": "code",
   "execution_count": 37,
   "id": "b7690016",
   "metadata": {},
   "outputs": [
    {
     "data": {
      "image/png": "[encoded data removed]",
      "text/plain": [
       "<Figure size 640x480 with 1 Axes>"
      ]
     },
     "metadata": {},
     "output_type": "display_data"
    }
   ],
   "source": [
    "# plot the result\n",
    "plt.plot(bins, counts, drawstyle ='steps');\n",
    "plt.show();"
   ]
  },
  {
   "cell_type": "code",
   "execution_count": 40,
   "id": "b687dc6b",
   "metadata": {},
   "outputs": [
    {
     "data": {
      "image/png": "[encoded data removed]",
      "text/plain": [
       "<Figure size 640x480 with 1 Axes>"
      ]
     },
     "metadata": {},
     "output_type": "display_data"
    }
   ],
   "source": [
    "plt.hist(x, bins, histtype='step');\n",
    "plt.show();"
   ]
  },
  {
   "cell_type": "code",
   "execution_count": null,
   "id": "978586a8",
   "metadata": {},
   "outputs": [
    {
     "name": "stdout",
     "output_type": "stream",
     "text": [
      "NumPy histogram (100 points):\n",
      "37.6 μs ± 11 μs per loop (mean ± std. dev. of 7 runs, 10,000 loops each)\n",
      "Custom histogram (100 points):\n",
      "18.3 μs ± 4.01 μs per loop (mean ± std. dev. of 7 runs, 10,000 loops each)\n"
     ]
    }
   ],
   "source": [
    "# benchmarking the performance of NumPy's built-in histogram vs your custom histogram logic using %timeit\n",
    "print(f\"NumPy histogram ({len(x)} points):\")\n",
    "%timeit counts, edges = np.histogram(x, bins)\n",
    "print(f\"Custom histogram ({len(x)} points):\")\n",
    "%timeit np.add.at(counts, np.searchsorted(bins, x), 1)"
   ]
  },
  {
   "cell_type": "code",
   "execution_count": 41,
   "id": "81be2401",
   "metadata": {},
   "outputs": [
    {
     "name": "stdout",
     "output_type": "stream",
     "text": [
      "NumPy histogram (1000000 points):\n",
      "14.8 ms ± 687 μs per loop (mean ± std. dev. of 7 runs, 100 loops each)\n",
      "Custom histogram (1000000 points):\n",
      "115 ms ± 2.82 ms per loop (mean ± std. dev. of 7 runs, 10 loops each)\n"
     ]
    }
   ],
   "source": [
    "x = rng.normal(size=1000000)\n",
    "print(f\"NumPy histogram ({len(x)} points):\")\n",
    "%timeit counts, edges = np.histogram(x, bins)\n",
    "\n",
    "print(f\"Custom histogram ({len(x)} points):\")\n",
    "%timeit np.add.at(counts, np.searchsorted(bins, x), 1)"
   ]
  },
  {
   "cell_type": "code",
   "execution_count": null,
   "id": "70915d3f",
   "metadata": {},
   "outputs": [],
   "source": []
  }
 ],
 "metadata": {
  "kernelspec": {
   "display_name": "Python 3",
   "language": "python",
   "name": "python3"
  },
  "language_info": {
   "codemirror_mode": {
    "name": "ipython",
    "version": 3
   },
   "file_extension": ".py",
   "mimetype": "text/x-python",
   "name": "python",
   "nbconvert_exporter": "python",
   "pygments_lexer": "ipython3",
   "version": "3.13.2"
  }
 },
 "nbformat": 4,
 "nbformat_minor": 5
}
