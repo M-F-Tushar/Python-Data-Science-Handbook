{
 "cells": [
  {
   "cell_type": "code",
   "execution_count": 2,
   "id": "c0170fda",
   "metadata": {},
   "outputs": [
    {
     "data": {
      "text/plain": [
       "[1, 1, 2, 3, 4, 5, 6, 9]"
      ]
     },
     "execution_count": 2,
     "metadata": {},
     "output_type": "execute_result"
    }
   ],
   "source": [
    "# Python has a couple of built-in functions and methods for sorting lists and other\n",
    "# iterable objects. The sorted function accepts a list and returns a sorted version of it:\n",
    "L = [3, 1, 4, 1, 5, 9, 2, 6]\n",
    "sorted(L) # returns a sorted copy"
   ]
  },
  {
   "cell_type": "code",
   "execution_count": 3,
   "id": "68d58f66",
   "metadata": {},
   "outputs": [
    {
     "name": "stdout",
     "output_type": "stream",
     "text": [
      "[1, 1, 2, 3, 4, 5, 6, 9]\n"
     ]
    }
   ],
   "source": [
    "L.sort()  # Act in place and returns nonw\n",
    "print(L)"
   ]
  },
  {
   "cell_type": "code",
   "execution_count": 4,
   "id": "9ee70eb6",
   "metadata": {},
   "outputs": [
    {
     "data": {
      "text/plain": [
       "['h', 'n', 'o', 'p', 't', 'y']"
      ]
     },
     "execution_count": 4,
     "metadata": {},
     "output_type": "execute_result"
    }
   ],
   "source": [
    "sorted('python')"
   ]
  },
  {
   "cell_type": "markdown",
   "id": "4f5550fa",
   "metadata": {},
   "source": [
    "1. Fast Sorting in NumPy: np.sort and np.argsort"
   ]
  },
  {
   "cell_type": "code",
   "execution_count": 5,
   "id": "c0f1afce",
   "metadata": {},
   "outputs": [
    {
     "data": {
      "text/plain": [
       "array([1, 2, 3, 4, 5])"
      ]
     },
     "execution_count": 5,
     "metadata": {},
     "output_type": "execute_result"
    }
   ],
   "source": [
    "import numpy as np\n",
    "\n",
    "x = np.array([2, 1, 4, 3, 5])\n",
    "np.sort(x)"
   ]
  },
  {
   "cell_type": "code",
   "execution_count": 6,
   "id": "c4410931",
   "metadata": {},
   "outputs": [
    {
     "name": "stdout",
     "output_type": "stream",
     "text": [
      "[1 2 3 4 5]\n"
     ]
    }
   ],
   "source": [
    "x.sort()\n",
    "print(x)"
   ]
  },
  {
   "cell_type": "code",
   "execution_count": 9,
   "id": "aa932238",
   "metadata": {},
   "outputs": [
    {
     "name": "stdout",
     "output_type": "stream",
     "text": [
      "[1 0 3 2 4]\n"
     ]
    }
   ],
   "source": [
    "x = np.array([2, 1, 4, 3, 5])\n",
    "i = np.argsort(x)\n",
    "print(i)"
   ]
  },
  {
   "cell_type": "code",
   "execution_count": 10,
   "id": "3bbbbf57",
   "metadata": {},
   "outputs": [
    {
     "data": {
      "text/plain": [
       "array([1, 2, 3, 4, 5])"
      ]
     },
     "execution_count": 10,
     "metadata": {},
     "output_type": "execute_result"
    }
   ],
   "source": [
    "x[i]"
   ]
  },
  {
   "cell_type": "markdown",
   "id": "786d20f7",
   "metadata": {},
   "source": [
    "2. Sorting along rows or columns"
   ]
  },
  {
   "cell_type": "code",
   "execution_count": 11,
   "id": "48aaeb73",
   "metadata": {},
   "outputs": [
    {
     "name": "stdout",
     "output_type": "stream",
     "text": [
      "[[0 7 6 4 4 8]\n",
      " [0 6 2 0 5 9]\n",
      " [7 7 7 7 5 1]\n",
      " [8 4 5 3 1 9]]\n"
     ]
    }
   ],
   "source": [
    "rng = np.random.default_rng(seed=42)\n",
    "X = rng.integers(0, 10, (4, 6))\n",
    "print(X)"
   ]
  },
  {
   "cell_type": "code",
   "execution_count": 12,
   "id": "2cb12156",
   "metadata": {},
   "outputs": [
    {
     "data": {
      "text/plain": [
       "array([[0, 4, 2, 0, 1, 1],\n",
       "       [0, 6, 5, 3, 4, 8],\n",
       "       [7, 7, 6, 4, 5, 9],\n",
       "       [8, 7, 7, 7, 5, 9]])"
      ]
     },
     "execution_count": 12,
     "metadata": {},
     "output_type": "execute_result"
    }
   ],
   "source": [
    "# sort each column of X\n",
    "np.sort(X, axis=0)"
   ]
  },
  {
   "cell_type": "code",
   "execution_count": 13,
   "id": "fe54b715",
   "metadata": {},
   "outputs": [
    {
     "data": {
      "text/plain": [
       "array([[0, 4, 4, 6, 7, 8],\n",
       "       [0, 0, 2, 5, 6, 9],\n",
       "       [1, 5, 7, 7, 7, 7],\n",
       "       [1, 3, 4, 5, 8, 9]])"
      ]
     },
     "execution_count": 13,
     "metadata": {},
     "output_type": "execute_result"
    }
   ],
   "source": [
    "# sort each row of X\n",
    "np.sort(X, axis=1)"
   ]
  },
  {
   "cell_type": "markdown",
   "id": "a6a08a11",
   "metadata": {},
   "source": [
    "3. Partial Sorts: Partitioning. \n",
    "Sometimes we’re not interested in sorting the entire array, but simply want to find the\n",
    "k smallest values in the array. NumPy enables this with the np.partition function.\n",
    "np.partition takes an array and a number k; the result is a new array with the small‐\n",
    "est k values to the left of the partition and the remaining values to the right:"
   ]
  },
  {
   "cell_type": "code",
   "execution_count": null,
   "id": "63a760d4",
   "metadata": {},
   "outputs": [
    {
     "name": "stdout",
     "output_type": "stream",
     "text": [
      "Original: [7 2 3 1 6 5 4]\n",
      "Partitioned: [1 2 3 4 5 6 7]\n",
      "Sorted: [1 2 3 4 5 6 7]\n"
     ]
    }
   ],
   "source": [
    "x = np.array([7, 2, 3, 1, 6, 5, 4])\n",
    "print(\"Original:\", x)\n",
    "print(\"Partitioned:\", np.partition(x, 3))\n",
    "print(\"Sorted:\", np.sort(x))"
   ]
  },
  {
   "cell_type": "code",
   "execution_count": 16,
   "id": "e5cd8b70",
   "metadata": {},
   "outputs": [
    {
     "data": {
      "text/plain": [
       "array([[0, 4, 4, 6, 7, 8],\n",
       "       [0, 0, 2, 5, 6, 9],\n",
       "       [1, 5, 7, 7, 7, 7],\n",
       "       [1, 3, 4, 5, 8, 9]])"
      ]
     },
     "execution_count": 16,
     "metadata": {},
     "output_type": "execute_result"
    }
   ],
   "source": [
    "np.partition(X, 2, axis=1)"
   ]
  },
  {
   "cell_type": "code",
   "execution_count": 19,
   "id": "1c977ba1",
   "metadata": {},
   "outputs": [],
   "source": [
    "# Example: k-Nearest Neighbors"
   ]
  },
  {
   "cell_type": "code",
   "execution_count": 28,
   "id": "1d67bca1",
   "metadata": {},
   "outputs": [],
   "source": [
    "X = rng.random((10, 2)) # 10 points in 2D\n",
    "# Generates a 10×2 array of random numbers between 0 and 1, representing 10 points in 2D space."
   ]
  },
  {
   "cell_type": "code",
   "execution_count": null,
   "id": "2a9abf6c",
   "metadata": {},
   "outputs": [
    {
     "data": {
      "image/png": "[encoded data removed]",
      "text/plain": [
       "<Figure size 640x480 with 1 Axes>"
      ]
     },
     "metadata": {},
     "output_type": "display_data"
    }
   ],
   "source": [
    "%matplotlib inline\n",
    "import matplotlib.pyplot as plt\n",
    "plt.scatter(X[:, 0], X[:, 1], s= 100);\n",
    "plt.show();\n",
    "#plt.scatter(X[:, 0], X[:, 1], s=100): Plots the points.\n",
    "\n",
    "# X[:, 0]: all x-coordinates\n",
    "\n",
    "# X[:, 1]: all y-coordinates\n",
    "\n",
    "# s=100: size of the points"
   ]
  },
  {
   "cell_type": "code",
   "execution_count": null,
   "id": "6ad10ce4",
   "metadata": {},
   "outputs": [
    {
     "name": "stdout",
     "output_type": "stream",
     "text": [
      "[0. 0. 0. 0. 0. 0. 0. 0. 0. 0.]\n"
     ]
    }
   ],
   "source": [
    "# Compute the squared distances between each pair of points\n",
    "# Broadcasting: (10, 1, 2) - (1, 10, 2) → (10, 10, 2)\n",
    "differences = X[:, np.newaxis, :] - X[np.newaxis, :, :]\n",
    "# Square and sum over last dimension (coordinates)\n",
    "dist_sq = np.sum(differences**2, axis=-1)\n",
    "\n",
    "# X[:, np.newaxis, :]: reshapes X from (10, 2) → (10, 1, 2)\n",
    "\n",
    "# X[np.newaxis, :, :]: reshapes X to (1, 10, 2)\n",
    "\n",
    "# Subtracting these uses broadcasting to compute the vector difference between every pair of points, resulting in shape (10, 10, 2), where the [i, j, :] slice is the vector from point j to point i.\n",
    "\n",
    "print(dist_sq.diagonal())  # Should be all zeros\n"
   ]
  },
  {
   "cell_type": "code",
   "execution_count": 25,
   "id": "89f1974a",
   "metadata": {},
   "outputs": [
    {
     "name": "stdout",
     "output_type": "stream",
     "text": [
      "Nearest neighbors by full sort:\n",
      " [[0 9 3 5 4 8 1 6 2 7]\n",
      " [1 7 2 6 4 8 3 0 9 5]\n",
      " [2 7 1 6 4 3 8 0 9 5]\n",
      " [3 0 4 5 9 6 1 2 8 7]\n",
      " [4 6 3 1 2 7 0 5 9 8]\n",
      " [5 9 3 0 4 6 8 1 2 7]\n",
      " [6 4 2 1 7 3 0 5 9 8]\n",
      " [7 2 1 6 4 3 8 0 9 5]\n",
      " [8 0 1 9 3 4 7 2 6 5]\n",
      " [9 0 5 3 4 8 6 1 2 7]]\n"
     ]
    }
   ],
   "source": [
    "# Find nearest neighbors using full sorting (argsort)\n",
    "nearest = np.argsort(dist_sq, axis=1)\n",
    "print(\"Nearest neighbors by full sort:\\n\", nearest)\n"
   ]
  },
  {
   "cell_type": "code",
   "execution_count": 26,
   "id": "12cf5193",
   "metadata": {},
   "outputs": [
    {
     "name": "stdout",
     "output_type": "stream",
     "text": [
      "Nearest neighbors by partial sort (unsorted within top K+1):\n",
      " [[0 9 3 5 4 8 1 6 2 7]\n",
      " [1 7 2 6 4 8 3 0 9 5]\n",
      " [2 7 1 6 4 3 8 0 9 5]\n",
      " [3 0 4 5 9 6 1 2 8 7]\n",
      " [4 6 3 1 2 7 0 5 9 8]\n",
      " [5 9 3 0 4 6 8 1 2 7]\n",
      " [6 4 2 1 7 3 0 5 9 8]\n",
      " [7 2 1 6 4 3 8 0 9 5]\n",
      " [8 0 1 9 3 4 7 2 6 5]\n",
      " [9 0 5 3 4 8 6 1 2 7]]\n"
     ]
    }
   ],
   "source": [
    "# Find nearest neighbors efficiently using partial sorting (argpartition)\n",
    "K = 2  # Number of nearest neighbors desired\n",
    "nearest_partition = np.argpartition(dist_sq, K+1, axis=1)\n",
    "print(\"Nearest neighbors by partial sort (unsorted within top K+1):\\n\", nearest_partition)\n"
   ]
  },
  {
   "cell_type": "code",
   "execution_count": 27,
   "id": "bcbf598f",
   "metadata": {},
   "outputs": [
    {
     "data": {
      "image/png": "[encoded data removed]",
      "text/plain": [
       "<Figure size 640x480 with 1 Axes>"
      ]
     },
     "metadata": {},
     "output_type": "display_data"
    }
   ],
   "source": [
    "# Plot points with lines to their K nearest neighbors\n",
    "plt.scatter(X[:, 0], X[:, 1], s=100)\n",
    "\n",
    "for i in range(X.shape[0]):\n",
    "    for j in nearest_partition[i, :K+1]:\n",
    "        plt.plot(*zip(X[i], X[j]), color='black')\n",
    "\n",
    "plt.title(f\"Points with lines to their {K} nearest neighbors\")\n",
    "plt.show()\n"
   ]
  },
  {
   "cell_type": "code",
   "execution_count": null,
   "id": "18129648",
   "metadata": {},
   "outputs": [],
   "source": []
  }
 ],
 "metadata": {
  "kernelspec": {
   "display_name": "Python 3",
   "language": "python",
   "name": "python3"
  },
  "language_info": {
   "codemirror_mode": {
    "name": "ipython",
    "version": 3
   },
   "file_extension": ".py",
   "mimetype": "text/x-python",
   "name": "python",
   "nbconvert_exporter": "python",
   "pygments_lexer": "ipython3",
   "version": "3.13.2"
  }
 },
 "nbformat": 4,
 "nbformat_minor": 5
}
