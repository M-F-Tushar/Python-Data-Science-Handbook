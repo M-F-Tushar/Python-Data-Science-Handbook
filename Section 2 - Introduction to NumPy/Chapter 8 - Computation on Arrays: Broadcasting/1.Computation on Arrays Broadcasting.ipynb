{
 "cells": [
  {
   "cell_type": "markdown",
   "id": "85f04382",
   "metadata": {},
   "source": [
    "1. Introducing Broadcasting"
   ]
  },
  {
   "cell_type": "code",
   "execution_count": 1,
   "id": "cacb3ef2",
   "metadata": {},
   "outputs": [],
   "source": [
    "import numpy as np\n"
   ]
  },
  {
   "cell_type": "code",
   "execution_count": 6,
   "id": "73822ba5",
   "metadata": {},
   "outputs": [
    {
     "data": {
      "text/plain": [
       "array([5, 6, 7])"
      ]
     },
     "execution_count": 6,
     "metadata": {},
     "output_type": "execute_result"
    }
   ],
   "source": [
    "# Recall that for arrays of the same size, binary operations are performed on an element-by-element basis\n",
    "a = np.array([0, 1, 2])\n",
    "b = np.array([5, 5, 5])\n",
    "a + b"
   ]
  },
  {
   "cell_type": "code",
   "execution_count": 9,
   "id": "d2a215f7",
   "metadata": {},
   "outputs": [
    {
     "data": {
      "text/plain": [
       "array([5, 6, 7])"
      ]
     },
     "execution_count": 9,
     "metadata": {},
     "output_type": "execute_result"
    }
   ],
   "source": [
    "# Broadcasting allows these types of binary operations to be performed on arrays of dif‐\n",
    "# ferent sizes—for example, we can just as easily add a scalar (think of it as a zero￾\n",
    "# dimensional array) to an array\n",
    "a = np.array([0, 1, 2])\n",
    "a + 5\n",
    "# Here, 5 is broadcast to the shape of a — as if it becomes [5, 5, 5], and the operation proceeds element-wise."
   ]
  },
  {
   "cell_type": "code",
   "execution_count": 10,
   "id": "77b320d8",
   "metadata": {},
   "outputs": [
    {
     "data": {
      "text/plain": [
       "array([[1., 1., 1.],\n",
       "       [1., 1., 1.],\n",
       "       [1., 1., 1.]])"
      ]
     },
     "execution_count": 10,
     "metadata": {},
     "output_type": "execute_result"
    }
   ],
   "source": [
    "M = np.ones((3, 3))\n",
    "M"
   ]
  },
  {
   "cell_type": "code",
   "execution_count": 11,
   "id": "6b8e48a3",
   "metadata": {},
   "outputs": [
    {
     "data": {
      "text/plain": [
       "array([0, 1, 2])"
      ]
     },
     "execution_count": 11,
     "metadata": {},
     "output_type": "execute_result"
    }
   ],
   "source": [
    "a"
   ]
  },
  {
   "cell_type": "code",
   "execution_count": 13,
   "id": "d384ff44",
   "metadata": {},
   "outputs": [
    {
     "data": {
      "text/plain": [
       "array([[1., 2., 3.],\n",
       "       [1., 2., 3.],\n",
       "       [1., 2., 3.]])"
      ]
     },
     "execution_count": 13,
     "metadata": {},
     "output_type": "execute_result"
    }
   ],
   "source": [
    "M + a # Here, the 1D array a is broadcast to the shape of M, as if it becomes [[0, 1, 2], [0, 1, 2], [0, 1, 2]]."
   ]
  },
  {
   "cell_type": "code",
   "execution_count": null,
   "id": "59ecfc0a",
   "metadata": {},
   "outputs": [
    {
     "name": "stdout",
     "output_type": "stream",
     "text": [
      "[0 1 2]\n",
      "[[0]\n",
      " [1]\n",
      " [2]]\n"
     ]
    }
   ],
   "source": [
    "a = np.arange(3)  # → [0, 1, 2]     → shape (3,)\n",
    "b = np.arange(3)[:, np.newaxis]  # → [[0], [1], [2]] → shape (3, 1) # This adds a new axis to b, making it a column vector\n",
    "print(a)\n",
    "print(b)"
   ]
  },
  {
   "cell_type": "code",
   "execution_count": 19,
   "id": "4016f276",
   "metadata": {},
   "outputs": [
    {
     "data": {
      "text/plain": [
       "'\\n[[0],       +    [0, 1, 2]      =  [[0, 1, 2],\\n [1],                             [1, 2, 3],\\n [2]]                             [2, 3, 4]]\\n\\n'"
      ]
     },
     "execution_count": 19,
     "metadata": {},
     "output_type": "execute_result"
    }
   ],
   "source": [
    "\n",
    "'''\n",
    "[[0],       +    [0, 1, 2]      =  [[0, 1, 2],\n",
    " [1],                             [1, 2, 3],\n",
    " [2]]                             [2, 3, 4]]\n",
    "\n",
    "'''"
   ]
  },
  {
   "cell_type": "code",
   "execution_count": 20,
   "id": "5e188ee2",
   "metadata": {},
   "outputs": [
    {
     "data": {
      "text/plain": [
       "array([[0, 1, 2],\n",
       "       [1, 2, 3],\n",
       "       [2, 3, 4]])"
      ]
     },
     "execution_count": 20,
     "metadata": {},
     "output_type": "execute_result"
    }
   ],
   "source": [
    "a + b"
   ]
  },
  {
   "cell_type": "code",
   "execution_count": 22,
   "id": "1c251438",
   "metadata": {},
   "outputs": [],
   "source": [
    "# bradcasting exaple 1  \n",
    "M = np.ones((2, 3))\n",
    "a = np.arange(3) # → [0, 1, 2] → shape (3,)"
   ]
  },
  {
   "cell_type": "markdown",
   "id": "81e35d0f",
   "metadata": {},
   "source": [
    "Let’s consider an operation on these two arrays, which have the following shapes:\n",
    "• M.shape is (2, 3)\n",
    "• a.shape is (3,)\n",
    "We see by rule 1 that the array a has fewer dimensions, so we pad it on the left with\n",
    "ones:\n",
    "• M.shape remains (2, 3)\n",
    "• a.shape becomes (1, 3)\n",
    "By rule 2, we now see that the first dimension disagrees, so we stretch this dimension\n",
    "to match:\n",
    "• M.shape remains (2, 3)\n",
    "• a.shape becomes (2, 3)\n",
    "The shapes now match, and we see that the final shape will be (2, 3):"
   ]
  },
  {
   "cell_type": "code",
   "execution_count": 24,
   "id": "6c39a94f",
   "metadata": {},
   "outputs": [
    {
     "data": {
      "text/plain": [
       "array([[1., 2., 3.],\n",
       "       [1., 2., 3.]])"
      ]
     },
     "execution_count": 24,
     "metadata": {},
     "output_type": "execute_result"
    }
   ],
   "source": [
    "M + a"
   ]
  },
  {
   "cell_type": "code",
   "execution_count": 26,
   "id": "c93952db",
   "metadata": {},
   "outputs": [],
   "source": [
    "# Bradcasting example 2\n",
    "a = np.arange(3).reshape((3, 1)) # → [[0], [1], [2]] → shape (3, 1)\n",
    "b = np.arange(3) # → [0, 1, 2] → shape (3,)"
   ]
  },
  {
   "cell_type": "code",
   "execution_count": null,
   "id": "c3e47b04",
   "metadata": {},
   "outputs": [],
   "source": [
    "# Again, we’ll start by determining the shapes of the arrays:\n",
    "# • a.shape is (3, 1)\n",
    "# • b.shape is (3,)\n",
    "# Rule 1 says we must pad the shape of b with ones:\n",
    "# • a.shape remains (3, 1)\n",
    "# • b.shape becomes (1, 3)\n",
    "# And rule 2 tells us that we must upgrade each of these 1s to match the corresponding\n",
    "# size of the other array:\n",
    "# • a.shape becomes (3, 3)\n",
    "# • b.shape becomes (3, 3)\n",
    "'''\n",
    "Initial arrays:\n",
    "\n",
    "a = np.arange(3).reshape((3, 1))  # shape (3,1)\n",
    "b = np.arange(3)                  # shape (3,)\n",
    "a looks like:\n",
    "[[0],\n",
    " [1],\n",
    " [2]]\n",
    " \n",
    "b looks like: [0, 1, 2]\n",
    "\n",
    "Step 1: Apply Rule 1 — Pad shape of b with ones on the left\n",
    "a.shape = (3, 1)\n",
    "\n",
    "b.shape = (3,) → pad to (1, 3)\n",
    "\n",
    "Step 2: Apply Rule 2 — Stretch dimensions where size is 1\n",
    "a.shape = (3, 1) → expand to (3, 3)\n",
    "\n",
    "b.shape = (1, 3) → expand to (3, 3)\n",
    "\n",
    "Each array is virtually duplicated along the dimensions where size was 1.\n",
    "\n",
    "Final shapes:\n",
    "Both arrays now behave like (3, 3) arrays, so element-wise addition works:\n",
    "\n",
    "a + b = \n",
    "[[0+0, 0+1, 0+2],\n",
    " [1+0, 1+1, 1+2],\n",
    " [2+0, 2+1, 2+2]]\n",
    "= \n",
    "[[0, 1, 2],\n",
    " [1, 2, 3],\n",
    " [2, 3, 4]]\n",
    "'''"
   ]
  },
  {
   "cell_type": "code",
   "execution_count": null,
   "id": "eab8d4be",
   "metadata": {},
   "outputs": [
    {
     "data": {
      "text/plain": [
       "array([[0, 1, 2],\n",
       "       [1, 2, 3],\n",
       "       [2, 3, 4]])"
      ]
     },
     "execution_count": 29,
     "metadata": {},
     "output_type": "execute_result"
    }
   ],
   "source": [
    "a + b"
   ]
  },
  {
   "cell_type": "code",
   "execution_count": 30,
   "id": "ed33b49b",
   "metadata": {},
   "outputs": [],
   "source": [
    "# Broadcasting example 3\n",
    "M = np.ones((3, 2))\n",
    "a = np.arange(3)"
   ]
  },
  {
   "cell_type": "code",
   "execution_count": 31,
   "id": "38977b93",
   "metadata": {},
   "outputs": [
    {
     "data": {
      "text/plain": [
       "(3, 1)"
      ]
     },
     "execution_count": 31,
     "metadata": {},
     "output_type": "execute_result"
    }
   ],
   "source": [
    "# xplicitly reshape a to have shape (3,1) so it broadcasts correctly:\n",
    "a[:, np.newaxis].shape  # (3, 1)\n",
    "# Now:\n",
    "# M.shape = (3, 2)\n",
    "# a[:, np.newaxis].shape = (3, 1)\n"
   ]
  },
  {
   "cell_type": "code",
   "execution_count": 32,
   "id": "db48712f",
   "metadata": {},
   "outputs": [
    {
     "data": {
      "text/plain": [
       "array([[1., 1.],\n",
       "       [2., 2.],\n",
       "       [3., 3.]])"
      ]
     },
     "execution_count": 32,
     "metadata": {},
     "output_type": "execute_result"
    }
   ],
   "source": [
    "M + a[:, np.newaxis]"
   ]
  },
  {
   "cell_type": "code",
   "execution_count": 33,
   "id": "495350c9",
   "metadata": {},
   "outputs": [
    {
     "data": {
      "text/plain": [
       "array([[1.31326169, 1.31326169],\n",
       "       [1.69314718, 1.69314718],\n",
       "       [2.31326169, 2.31326169]])"
      ]
     },
     "execution_count": 33,
     "metadata": {},
     "output_type": "execute_result"
    }
   ],
   "source": [
    "# Universal functions (ufuncs) like np.logaddexp also use broadcasting:\n",
    "np.logaddexp(M, a[:, np.newaxis])\n",
    "\n",
    "# array([[1.31326169, 1.31326169],\n",
    "#        [1.69314718, 1.69314718],\n",
    "#        [2.31326169, 2.31326169]])\n"
   ]
  },
  {
   "cell_type": "markdown",
   "id": "9deff473",
   "metadata": {},
   "source": [
    "5. Centering an Array"
   ]
  },
  {
   "cell_type": "code",
   "execution_count": 34,
   "id": "c6a978f2",
   "metadata": {},
   "outputs": [],
   "source": [
    "#1. Generate random data matrix X:\n",
    "rng = np.random.default_rng(seed=1701)\n",
    "X = rng.random((10, 3))\n",
    "# X is a 10×3 matrix: 10 observations, each with 3 values.\n",
    "# Shape: (10, 3)\n",
    "\n"
   ]
  },
  {
   "cell_type": "code",
   "execution_count": 35,
   "id": "8158bd9d",
   "metadata": {},
   "outputs": [],
   "source": [
    "# 2. Compute the mean of each column (feature):\n",
    "Xmean = X.mean(axis=0)  # shape (3,)\n",
    "# This calculates mean along axis 0 (down each column).\n",
    "# Result is a 1D array of shape (3,) — the mean of each column.\n",
    "\n"
   ]
  },
  {
   "cell_type": "code",
   "execution_count": 37,
   "id": "f2f58e18",
   "metadata": {},
   "outputs": [],
   "source": [
    "# 3. Center the data by subtracting the column means:\n",
    "X_centered = X - Xmean\n",
    "\n",
    "# Here broadcasting kicks in.\n",
    "\n",
    "# X shape: (10, 3)\n",
    "\n",
    "# Xmean shape: (3,) → padded to (1, 3)\n",
    "\n",
    "# Xmean is broadcasted to (10, 3) by duplicating the mean values across all rows.\n",
    "\n",
    "# Then subtraction happens element-wise.\n",
    "\n",
    "\n",
    "\n"
   ]
  },
  {
   "cell_type": "code",
   "execution_count": 39,
   "id": "e61c39b8",
   "metadata": {},
   "outputs": [
    {
     "data": {
      "text/plain": [
       "array([ 4.99600361e-17, -4.44089210e-17,  0.00000000e+00])"
      ]
     },
     "execution_count": 39,
     "metadata": {},
     "output_type": "execute_result"
    }
   ],
   "source": [
    "# 4. Verify the centering worked:\n",
    "X_centered.mean(axis=0)\n",
    "# Output close to [0, 0, 0]\n",
    "# The mean of each centered column is effectively zero (within floating-point precision)."
   ]
  },
  {
   "cell_type": "markdown",
   "id": "e8d6f28d",
   "metadata": {},
   "source": [
    "6. Plotting a Two-Dimensional Function"
   ]
  },
  {
   "cell_type": "code",
   "execution_count": null,
   "id": "a8d24f29",
   "metadata": {},
   "outputs": [],
   "source": [
    "# x and y have 50 steps from 0 to 5\n",
    "x = np.linspace(0, 5, 50) # x is a 1D array with 50 values between 0 and 5.\n",
    "y = np.linspace(0, 5, 50)[:, np.newaxis] # y is reshaped to a column vector using np.newaxis, making it 2D with shape (50, 1).\n",
    "z = np.sin(x) ** 10 + np.cos(10 + y * x) * np.cos(x)"
   ]
  },
  {
   "cell_type": "code",
   "execution_count": 41,
   "id": "59b0bdd1",
   "metadata": {},
   "outputs": [],
   "source": [
    "%matplotlib inline\n",
    "import matplotlib.pyplot as plt"
   ]
  },
  {
   "cell_type": "code",
   "execution_count": 44,
   "id": "3883cebc",
   "metadata": {},
   "outputs": [
    {
     "data": {
      "image/png": "[encoded data removed]",
      "text/plain": [
       "<Figure size 640x480 with 4 Axes>"
      ]
     },
     "metadata": {},
     "output_type": "display_data"
    }
   ],
   "source": [
    "plt.imshow(z, origin = 'lower', extent=[0, 5, 0, 5]) \n",
    "plt.colorbar();\n",
    "plt.show();"
   ]
  }
 ],
 "metadata": {
  "kernelspec": {
   "display_name": "Python 3",
   "language": "python",
   "name": "python3"
  },
  "language_info": {
   "codemirror_mode": {
    "name": "ipython",
    "version": 3
   },
   "file_extension": ".py",
   "mimetype": "text/x-python",
   "name": "python",
   "nbconvert_exporter": "python",
   "pygments_lexer": "ipython3",
   "version": "3.13.2"
  }
 },
 "nbformat": 4,
 "nbformat_minor": 5
}
