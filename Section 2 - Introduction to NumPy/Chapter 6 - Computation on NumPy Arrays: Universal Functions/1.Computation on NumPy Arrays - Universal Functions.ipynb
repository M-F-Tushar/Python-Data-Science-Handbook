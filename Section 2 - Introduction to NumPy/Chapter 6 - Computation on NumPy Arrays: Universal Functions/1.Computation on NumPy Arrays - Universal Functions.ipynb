{
 "cells": [
  {
   "cell_type": "markdown",
   "id": "f939e6e8",
   "metadata": {},
   "source": [
    "1.The Slowness of Loops"
   ]
  },
  {
   "cell_type": "markdown",
   "id": "6086a7d3",
   "metadata": {},
   "source": [
    "The relative sluggishness of Python generally manifests itself in situations where\n",
    "many small operations are being repeated; for instance, looping over arrays to operate\n",
    "on each element. For example, imagine we have an array of values and we’d like to\n",
    "compute the reciprocal of each. A straightforward approach might look like this:"
   ]
  },
  {
   "cell_type": "code",
   "execution_count": 2,
   "id": "92226990",
   "metadata": {},
   "outputs": [
    {
     "data": {
      "text/plain": [
       "array([0.11111111, 0.25      , 1.        , 0.33333333, 0.125     ])"
      ]
     },
     "execution_count": 2,
     "metadata": {},
     "output_type": "execute_result"
    }
   ],
   "source": [
    "import numpy as np\n",
    "rng = np.random.default_rng(seed=1701)\n",
    "def compute_reciprocals(values):\n",
    "    output = np.empty(len(values))\n",
    "    for i in range(len(values)):\n",
    "        output[i] = 1.0 / values[i]\n",
    "    return output\n",
    "values = rng.integers(1, 10, size=5)\n",
    "compute_reciprocals(values)"
   ]
  },
  {
   "cell_type": "code",
   "execution_count": 3,
   "id": "c41b8f97",
   "metadata": {},
   "outputs": [
    {
     "name": "stdout",
     "output_type": "stream",
     "text": [
      "1.68 s ± 18.9 ms per loop (mean ± std. dev. of 7 runs, 1 loop each)\n"
     ]
    }
   ],
   "source": [
    "big_array = rng.integers(1, 100, size=1000000)\n",
    "%timeit compute_reciprocals(big_array)"
   ]
  },
  {
   "cell_type": "markdown",
   "id": "3e351bd4",
   "metadata": {},
   "source": [
    "2. Introducing Ufuncs"
   ]
  },
  {
   "cell_type": "code",
   "execution_count": 4,
   "id": "78483738",
   "metadata": {},
   "outputs": [
    {
     "name": "stdout",
     "output_type": "stream",
     "text": [
      "[0.11111111 0.25       1.         0.33333333 0.125     ]\n",
      "[0.11111111 0.25       1.         0.33333333 0.125     ]\n"
     ]
    }
   ],
   "source": [
    "print(compute_reciprocals(values))\n",
    "print(1.0 / values)"
   ]
  },
  {
   "cell_type": "code",
   "execution_count": 5,
   "id": "566e089b",
   "metadata": {},
   "outputs": [
    {
     "name": "stdout",
     "output_type": "stream",
     "text": [
      "5.06 ms ± 888 μs per loop (mean ± std. dev. of 7 runs, 100 loops each)\n"
     ]
    }
   ],
   "source": [
    "%timeit (1.0 / big_array)"
   ]
  },
  {
   "cell_type": "code",
   "execution_count": 6,
   "id": "eb52dc01",
   "metadata": {},
   "outputs": [
    {
     "data": {
      "text/plain": [
       "array([0.        , 0.5       , 0.66666667, 0.75      , 0.8       ])"
      ]
     },
     "execution_count": 6,
     "metadata": {},
     "output_type": "execute_result"
    }
   ],
   "source": [
    "np.arange(5) / np.arange(1, 6)"
   ]
  },
  {
   "cell_type": "code",
   "execution_count": 8,
   "id": "7d5453c0",
   "metadata": {},
   "outputs": [
    {
     "data": {
      "text/plain": [
       "array([[  1,   2,   4],\n",
       "       [  8,  16,  32],\n",
       "       [ 64, 128, 256]])"
      ]
     },
     "execution_count": 8,
     "metadata": {},
     "output_type": "execute_result"
    }
   ],
   "source": [
    "x = np.arange(9).reshape((3, 3))\n",
    "2 ** x"
   ]
  },
  {
   "cell_type": "markdown",
   "id": "2ec6a032",
   "metadata": {},
   "source": [
    "3.Exploring NumPy’s Ufuncs"
   ]
  },
  {
   "cell_type": "code",
   "execution_count": 10,
   "id": "336bdd5e",
   "metadata": {},
   "outputs": [
    {
     "name": "stdout",
     "output_type": "stream",
     "text": [
      "x     =  [0 1 2 3]\n",
      "x + 5 =  [5 6 7 8]\n",
      "x - 5 =  [-5 -4 -3 -2]\n",
      "x * 2 =  [0 2 4 6]\n",
      "x / 2 =  [0.  0.5 1.  1.5]\n",
      "x // 2 =  [0 0 1 1]\n"
     ]
    }
   ],
   "source": [
    "x = np.arange(4)\n",
    "print(\"x     = \", x)\n",
    "print(\"x + 5 = \", x + 5)\n",
    "print(\"x - 5 = \", x - 5)\n",
    "print(\"x * 2 = \", x * 2)\n",
    "print(\"x / 2 = \", x / 2)\n",
    "print(\"x // 2 = \", x // 2) # floor division"
   ]
  },
  {
   "cell_type": "code",
   "execution_count": 11,
   "id": "3c212ff8",
   "metadata": {},
   "outputs": [
    {
     "name": "stdout",
     "output_type": "stream",
     "text": [
      "-x     =  [ 0 -1 -2 -3]\n",
      "x ** 2 =  [0 1 4 9]\n",
      "x % 2  =  [0 1 0 1]\n"
     ]
    }
   ],
   "source": [
    "print(\"-x     = \", -x)\n",
    "print(\"x ** 2 = \", x ** 2)\n",
    "print(\"x % 2  = \", x % 2)"
   ]
  },
  {
   "cell_type": "code",
   "execution_count": 12,
   "id": "4c8f527a",
   "metadata": {},
   "outputs": [
    {
     "data": {
      "text/plain": [
       "array([-1.  , -2.25, -4.  , -6.25])"
      ]
     },
     "execution_count": 12,
     "metadata": {},
     "output_type": "execute_result"
    }
   ],
   "source": [
    "-(0.5*x + 1)**2"
   ]
  },
  {
   "cell_type": "code",
   "execution_count": 13,
   "id": "170c28bf",
   "metadata": {},
   "outputs": [
    {
     "data": {
      "text/plain": [
       "array([2, 3, 4, 5])"
      ]
     },
     "execution_count": 13,
     "metadata": {},
     "output_type": "execute_result"
    }
   ],
   "source": [
    "np.add(x, 2)"
   ]
  },
  {
   "cell_type": "code",
   "execution_count": 16,
   "id": "b7b48f5b",
   "metadata": {},
   "outputs": [
    {
     "data": {
      "text/plain": [
       "'\\nArithmetic operators implemented in NumPy\\nOperator           Equivalent       ufunc Description\\n  +                 np.add           Addition (e.g., 1 + 1 = 2)\\n  -                 np.subtract      Subtraction (e.g., 3 - 2 = 1)\\n  -                 np.negative      Unary negation (e.g., -2)\\n  *                 np.multiply      Multiplication (e.g., 2 * 3 = 6)\\n  /                 np.divide        Division (e.g., 3 / 2 = 1.5)\\n  //                np.floor_divide  Floor division (e.g., 3 // 2 = 1)\\n  **                np.power         Exponentiation (e.g., 2 ** 3 = 8)\\n  %                 np.mod           Modulus/remainder (e.g., 9 % 4 = 1)\\n  '"
      ]
     },
     "execution_count": 16,
     "metadata": {},
     "output_type": "execute_result"
    }
   ],
   "source": [
    "'''\n",
    "Arithmetic operators implemented in NumPy\n",
    "Operator           Equivalent       ufunc Description\n",
    "  +                 np.add           Addition (e.g., 1 + 1 = 2)\n",
    "  -                 np.subtract      Subtraction (e.g., 3 - 2 = 1)\n",
    "  -                 np.negative      Unary negation (e.g., -2)\n",
    "  *                 np.multiply      Multiplication (e.g., 2 * 3 = 6)\n",
    "  /                 np.divide        Division (e.g., 3 / 2 = 1.5)\n",
    "  //                np.floor_divide  Floor division (e.g., 3 // 2 = 1)\n",
    "  **                np.power         Exponentiation (e.g., 2 ** 3 = 8)\n",
    "  %                 np.mod           Modulus/remainder (e.g., 9 % 4 = 1)\n",
    "  '''"
   ]
  },
  {
   "cell_type": "code",
   "execution_count": 17,
   "id": "55e26369",
   "metadata": {},
   "outputs": [
    {
     "data": {
      "text/plain": [
       "array([2, 1, 0, 1, 2])"
      ]
     },
     "execution_count": 17,
     "metadata": {},
     "output_type": "execute_result"
    }
   ],
   "source": [
    "x = np.array([-2, -1, 0, 1, 2])\n",
    "abs(x)"
   ]
  },
  {
   "cell_type": "code",
   "execution_count": 18,
   "id": "b482b67d",
   "metadata": {},
   "outputs": [
    {
     "data": {
      "text/plain": [
       "array([2, 1, 0, 1, 2])"
      ]
     },
     "execution_count": 18,
     "metadata": {},
     "output_type": "execute_result"
    }
   ],
   "source": [
    "# The corresponding NumPy ufunc is np.absolute\n",
    "np.absolute(x)"
   ]
  },
  {
   "cell_type": "code",
   "execution_count": 19,
   "id": "412b5725",
   "metadata": {},
   "outputs": [
    {
     "data": {
      "text/plain": [
       "array([2, 1, 0, 1, 2])"
      ]
     },
     "execution_count": 19,
     "metadata": {},
     "output_type": "execute_result"
    }
   ],
   "source": [
    "# which is also available under the alias np.abs:\n",
    "np.abs(x)"
   ]
  },
  {
   "cell_type": "code",
   "execution_count": 20,
   "id": "f14ed05f",
   "metadata": {},
   "outputs": [
    {
     "data": {
      "text/plain": [
       "array([5., 5., 2., 1.])"
      ]
     },
     "execution_count": 20,
     "metadata": {},
     "output_type": "execute_result"
    }
   ],
   "source": [
    "# This ufunc can also handle complex data, in which case it returns the magnitude:\n",
    "x = np.array([3 - 4j, 4 - 3j, 2 + 0j, 0 + 1j])\n",
    "np.abs(x)"
   ]
  },
  {
   "cell_type": "code",
   "execution_count": 21,
   "id": "1c079b54",
   "metadata": {},
   "outputs": [],
   "source": [
    "# Trigonometric functions"
   ]
  },
  {
   "cell_type": "code",
   "execution_count": 26,
   "id": "0c4a54c7",
   "metadata": {},
   "outputs": [],
   "source": [
    "theta = np.linspace(0, np.pi, 3) # This creates a NumPy array of 3 evenly spaced values between 0 and π\n",
    " # ≈ [0, π/2, π]"
   ]
  },
  {
   "cell_type": "code",
   "execution_count": 24,
   "id": "f2cadcb5",
   "metadata": {},
   "outputs": [
    {
     "name": "stdout",
     "output_type": "stream",
     "text": [
      "theta =  [0.         1.57079633 3.14159265]\n",
      "sin(theta) =  [0.0000000e+00 1.0000000e+00 1.2246468e-16]\n",
      "cos(theta) =  [ 1.000000e+00  6.123234e-17 -1.000000e+00]\n",
      "tan(theta) =  [ 0.00000000e+00  1.63312394e+16 -1.22464680e-16]\n"
     ]
    }
   ],
   "source": [
    "print(\"theta = \", theta)\n",
    "print(\"sin(theta) = \", np.sin(theta))\n",
    "print(\"cos(theta) = \", np.cos(theta))\n",
    "print(\"tan(theta) = \", np.tan(theta))"
   ]
  },
  {
   "cell_type": "code",
   "execution_count": 27,
   "id": "5a45875d",
   "metadata": {},
   "outputs": [
    {
     "name": "stdout",
     "output_type": "stream",
     "text": [
      "x =  [-1, 0, 1]\n",
      "arcsin(x) =  [-1.57079633  0.          1.57079633]\n",
      "arccos(x) =  [3.14159265 1.57079633 0.        ]\n",
      "arctan(x) =  [-0.78539816  0.          0.78539816]\n"
     ]
    }
   ],
   "source": [
    "#  Inverse trigonometric functions\n",
    "x = [-1, 0, 1]\n",
    "print(\"x = \", x)\n",
    "print(\"arcsin(x) = \", np.arcsin(x))\n",
    "print(\"arccos(x) = \", np.arccos(x))\n",
    "print(\"arctan(x) = \", np.arctan(x))"
   ]
  },
  {
   "cell_type": "code",
   "execution_count": 28,
   "id": "3a49afd6",
   "metadata": {},
   "outputs": [],
   "source": [
    "# Exponents and Logarithms"
   ]
  },
  {
   "cell_type": "code",
   "execution_count": 30,
   "id": "e256e66d",
   "metadata": {},
   "outputs": [
    {
     "name": "stdout",
     "output_type": "stream",
     "text": [
      "x = [1, 2, 3]\n",
      "e^x = [ 2.71828183  7.3890561  20.08553692]\n",
      "2^x = [2. 4. 8.]\n",
      "3^x = [ 3.  9. 27.]\n"
     ]
    }
   ],
   "source": [
    "x = [1, 2, 3]\n",
    "print(\"x =\", x)\n",
    "print(\"e^x =\", np.exp(x))\n",
    "print(\"2^x =\", np.exp2(x))\n",
    "print(\"3^x =\", np.power(3., x))"
   ]
  },
  {
   "cell_type": "code",
   "execution_count": 31,
   "id": "e1abcfb3",
   "metadata": {},
   "outputs": [
    {
     "name": "stdout",
     "output_type": "stream",
     "text": [
      "x = [1, 2, 4, 10]\n",
      "ln(x) = [0.         0.69314718 1.38629436 2.30258509]\n",
      "log2(x) = [0.         1.         2.         3.32192809]\n",
      "log10(x) = [0.         0.30103    0.60205999 1.        ]\n"
     ]
    }
   ],
   "source": [
    "x = [1, 2, 4, 10]\n",
    "print(\"x =\", x)\n",
    "print(\"ln(x) =\", np.log(x))\n",
    "print(\"log2(x) =\", np.log2(x))\n",
    "print(\"log10(x) =\", np.log10(x))"
   ]
  },
  {
   "cell_type": "code",
   "execution_count": 32,
   "id": "b139a84d",
   "metadata": {},
   "outputs": [
    {
     "name": "stdout",
     "output_type": "stream",
     "text": [
      "exp(x) - 1 = [0.         0.0010005  0.01005017 0.10517092]\n",
      "log(1 + x) = [0.         0.0009995  0.00995033 0.09531018]\n"
     ]
    }
   ],
   "source": [
    "x = [0, 0.001, 0.01, 0.1]\n",
    "print(\"exp(x) - 1 =\", np.expm1(x))\n",
    "print(\"log(1 + x) =\", np.log1p(x))"
   ]
  },
  {
   "cell_type": "markdown",
   "id": "153e3714",
   "metadata": {},
   "source": [
    "4.Specialized Ufuncs"
   ]
  },
  {
   "cell_type": "code",
   "execution_count": 33,
   "id": "34e5949c",
   "metadata": {},
   "outputs": [],
   "source": [
    "from scipy import special"
   ]
  },
  {
   "cell_type": "code",
   "execution_count": 36,
   "id": "852bc8db",
   "metadata": {},
   "outputs": [
    {
     "name": "stdout",
     "output_type": "stream",
     "text": [
      "gamma(x) = [1.0000e+00 2.4000e+01 3.6288e+05]\n",
      "ln|gamma(x)| = [ 0.          3.17805383 12.80182748]\n",
      "beta(x, 2) = [0.5        0.03333333 0.00909091]\n"
     ]
    }
   ],
   "source": [
    "# Gamma functions (generalized factorials) and related functions\n",
    "x = [1, 5, 10]\n",
    "print(\"gamma(x) =\", special.gamma(x)) # The gamma function is a generalization of the factorial\n",
    "print(\"ln|gamma(x)| =\", special.gammaln(x)) # Computes the natural logarithm of the absolute value of the gamma function\n",
    "print(\"beta(x, 2) =\", special.beta(x, 2)) # The beta function is a special function that is closely related to the gamma function"
   ]
  },
  {
   "cell_type": "code",
   "execution_count": 38,
   "id": "54f93946",
   "metadata": {},
   "outputs": [
    {
     "name": "stdout",
     "output_type": "stream",
     "text": [
      "erf(x) = [0.         0.32862676 0.67780119 0.84270079]\n",
      "erfc(x) = [1.         0.67137324 0.32219881 0.15729921]\n",
      "erfinv(x) = [0.         0.27246271 0.73286908        inf]\n"
     ]
    }
   ],
   "source": [
    "# Error function (integral of Gaussian),\n",
    "# its complement, and its inverse\n",
    "x = np.array([0, 0.3, 0.7, 1.0])\n",
    "print(\"erf(x) =\", special.erf(x)) # The error function is used in probability, statistics, and partial differential equations\n",
    "print(\"erfc(x) =\", special.erfc(x)) # For large 𝑥, erf(x) becomes very close to 1, and computing 1 - erf(x) may lose precision. So erfc(x) gives a numerically stable result.\n",
    "print(\"erfinv(x) =\", special.erfinv(x)) # The inverse error function is used to find the value of 𝑥 such that erf(𝑥) = 𝑦 for a given 𝑦"
   ]
  },
  {
   "cell_type": "markdown",
   "id": "10196b8f",
   "metadata": {},
   "source": [
    "5.Advanced Ufunc Features"
   ]
  },
  {
   "cell_type": "code",
   "execution_count": null,
   "id": "ae35ef5f",
   "metadata": {},
   "outputs": [
    {
     "name": "stdout",
     "output_type": "stream",
     "text": [
      "[ 0. 10. 20. 30. 40.]\n"
     ]
    }
   ],
   "source": [
    "x = np.arange(5)        # Creates array: [0, 1, 2, 3, 4]\n",
    "y = np.empty(5)         # Creates an empty array of the same shape (contents uninitialized)\n",
    "np.multiply(x, 10, out=y)  # Multiplies x * 10 and stores the result in y\n",
    "print(y)\n",
    "# The np.multiply function is a universal function (ufunc) that performs element-wise multiplication"
   ]
  },
  {
   "cell_type": "code",
   "execution_count": 41,
   "id": "5588df23",
   "metadata": {},
   "outputs": [
    {
     "name": "stdout",
     "output_type": "stream",
     "text": [
      "[ 1.  0.  2.  0.  4.  0.  8.  0. 16.  0.]\n"
     ]
    }
   ],
   "source": [
    "y = np.zeros(10)              # y = [0. 0. 0. 0. 0. 0. 0. 0. 0. 0.]\n",
    "np.power(2, x, out=y[::2])    # Computes 2^x and stores in every second element of y (indices 0, 2, 4, 6, 8)\n",
    "print(y)\n"
   ]
  },
  {
   "cell_type": "code",
   "execution_count": 42,
   "id": "581a5ce9",
   "metadata": {},
   "outputs": [],
   "source": [
    "# Aggregations"
   ]
  },
  {
   "cell_type": "code",
   "execution_count": 44,
   "id": "da6c1d35",
   "metadata": {},
   "outputs": [
    {
     "data": {
      "text/plain": [
       "np.int64(15)"
      ]
     },
     "execution_count": 44,
     "metadata": {},
     "output_type": "execute_result"
    }
   ],
   "source": [
    "x = np.arange(1, 6) # x = [1, 2, 3, 4, 5]\n",
    "np.add.reduce(x) # Applies the addition operator cumulatively across the array.(1 + 2 + 3 + 4 + 5)"
   ]
  },
  {
   "cell_type": "code",
   "execution_count": null,
   "id": "ec8833e8",
   "metadata": {},
   "outputs": [
    {
     "data": {
      "text/plain": [
       "np.int64(120)"
      ]
     },
     "execution_count": 45,
     "metadata": {},
     "output_type": "execute_result"
    }
   ],
   "source": [
    "np.multiply.reduce(x) # np.multiply.reduce(x) applies the multiplication operator cumulatively:\n",
    "# 1 * 2 * 3 * 4 * 5 = 120"
   ]
  },
  {
   "cell_type": "code",
   "execution_count": 46,
   "id": "78b46c64",
   "metadata": {},
   "outputs": [
    {
     "data": {
      "text/plain": [
       "'\\nCalculation:\\nIndex 0: 1\\nIndex 1: 1+2=3\\nIndex 2: 1+2+3=6\\nIndex 3: 1+2+3+4=10\\nIndex 4: 1+2+3+4+5=15\\n'"
      ]
     },
     "execution_count": 46,
     "metadata": {},
     "output_type": "execute_result"
    }
   ],
   "source": [
    "np.add.accumulate(x) # np.add.accumulate(x) computes the cumulative sum of the elements in x.\n",
    "# Instead of a single sum, it returns an array where each element is the sum of all previous elements up to that position.\n",
    "'''\n",
    "Calculation:\n",
    "Index 0: 1\n",
    "Index 1: 1+2=3\n",
    "Index 2: 1+2+3=6\n",
    "Index 3: 1+2+3+4=10\n",
    "Index 4: 1+2+3+4+5=15\n",
    "'''\n",
    "\n"
   ]
  },
  {
   "cell_type": "code",
   "execution_count": 48,
   "id": "9e614b7d",
   "metadata": {},
   "outputs": [
    {
     "data": {
      "text/plain": [
       "'\\nCalculates the running product at each index:\\n\\nIndex 0: 1\\nIndex 1: 1×2=2\\nIndex 2: =1×2×3=6\\nIndex 3: 1×2×3×4=24\\nIndex 4: \\n1×2×3×4×5=120\\n\\n'"
      ]
     },
     "execution_count": 48,
     "metadata": {},
     "output_type": "execute_result"
    }
   ],
   "source": [
    "np.multiply.accumulate(x)\n",
    "'''\n",
    "Calculates the running product at each index:\n",
    "\n",
    "Index 0: 1\n",
    "Index 1: 1×2=2\n",
    "Index 2: =1×2×3=6\n",
    "Index 3: 1×2×3×4=24\n",
    "Index 4: \n",
    "1×2×3×4×5=120\n",
    "\n",
    "'''"
   ]
  },
  {
   "cell_type": "code",
   "execution_count": 50,
   "id": "f9998347",
   "metadata": {},
   "outputs": [
    {
     "data": {
      "text/plain": [
       "'\\nCalculation:\\n| × | 1 | 2  | 3  | 4  | 5  |\\n| - | - | -- | -- | -- | -- |\\n| 1 | 1 | 2  | 3  | 4  | 5  |\\n| 2 | 2 | 4  | 6  | 8  | 10 |\\n| 3 | 3 | 6  | 9  | 12 | 15 |\\n| 4 | 4 | 8  | 12 | 16 | 20 |\\n| 5 | 5 | 10 | 15 | 20 | 25 |\\n\\n'"
      ]
     },
     "execution_count": 50,
     "metadata": {},
     "output_type": "execute_result"
    }
   ],
   "source": [
    "x = np.arange(1, 6)\n",
    "np.multiply.outer(x, x) # The outer product of two vectors a and b produces a matrix where each element is the product of an element from a with an element from b.\n",
    "'''\n",
    "Calculation:\n",
    "| × | 1 | 2  | 3  | 4  | 5  |\n",
    "| - | - | -- | -- | -- | -- |\n",
    "| 1 | 1 | 2  | 3  | 4  | 5  |\n",
    "| 2 | 2 | 4  | 6  | 8  | 10 |\n",
    "| 3 | 3 | 6  | 9  | 12 | 15 |\n",
    "| 4 | 4 | 8  | 12 | 16 | 20 |\n",
    "| 5 | 5 | 10 | 15 | 20 | 25 |\n",
    "\n",
    "'''"
   ]
  },
  {
   "cell_type": "code",
   "execution_count": null,
   "id": "7dc0998c",
   "metadata": {},
   "outputs": [],
   "source": []
  }
 ],
 "metadata": {
  "kernelspec": {
   "display_name": "Python 3",
   "language": "python",
   "name": "python3"
  },
  "language_info": {
   "codemirror_mode": {
    "name": "ipython",
    "version": 3
   },
   "file_extension": ".py",
   "mimetype": "text/x-python",
   "name": "python",
   "nbconvert_exporter": "python",
   "pygments_lexer": "ipython3",
   "version": "3.13.2"
  }
 },
 "nbformat": 4,
 "nbformat_minor": 5
}
