{
 "cells": [
  {
   "cell_type": "code",
   "execution_count": 3,
   "id": "b51b47d5-39c9-475c-9b9c-54d4658534f5",
   "metadata": {},
   "outputs": [
    {
     "data": {
      "text/plain": [
       "[0, 1, 2, 3, 4, 5, 6, 7, 8, 9]"
      ]
     },
     "execution_count": 3,
     "metadata": {},
     "output_type": "execute_result"
    }
   ],
   "source": [
    "# We can create a list of integers as follows\n",
    "L = list(range(10))\n",
    "L"
   ]
  },
  {
   "cell_type": "code",
   "execution_count": 2,
   "id": "9615d871-5d51-405a-a5b4-09ddc09b101d",
   "metadata": {},
   "outputs": [
    {
     "data": {
      "text/plain": [
       "int"
      ]
     },
     "execution_count": 2,
     "metadata": {},
     "output_type": "execute_result"
    }
   ],
   "source": [
    "type(L[0])"
   ]
  },
  {
   "cell_type": "code",
   "execution_count": 5,
   "id": "671888f8-7297-4c3a-ad93-956e5fcca496",
   "metadata": {},
   "outputs": [
    {
     "data": {
      "text/plain": [
       "[0, 1, 2, 3, 4, 5, 6, 7, 8, 9]"
      ]
     },
     "execution_count": 5,
     "metadata": {},
     "output_type": "execute_result"
    }
   ],
   "source": [
    "#  similarly, a list of strings\n",
    "L2 = [str(c) for c in L]\n",
    "L"
   ]
  },
  {
   "cell_type": "code",
   "execution_count": 6,
   "id": "7d3e854c-864b-4ac3-818e-3d503f44cdfa",
   "metadata": {},
   "outputs": [
    {
     "data": {
      "text/plain": [
       "str"
      ]
     },
     "execution_count": 6,
     "metadata": {},
     "output_type": "execute_result"
    }
   ],
   "source": [
    "type(L2[0])"
   ]
  },
  {
   "cell_type": "code",
   "execution_count": 7,
   "id": "7a8dc624-75b7-4011-a6f7-0a0511c14591",
   "metadata": {},
   "outputs": [
    {
     "data": {
      "text/plain": [
       "[bool, str, float, int]"
      ]
     },
     "execution_count": 7,
     "metadata": {},
     "output_type": "execute_result"
    }
   ],
   "source": [
    "# Because of Python’s dynamic typing, we can even create heterogeneous lists\n",
    "L3 = [True, \"2\",3.0,4]\n",
    "[type(item) for item in L3]"
   ]
  },
  {
   "cell_type": "markdown",
   "id": "fb64a59f-453a-4a45-a0fe-c4ef5307fb4c",
   "metadata": {},
   "source": [
    "Fixed-Type Arrays in Python"
   ]
  },
  {
   "cell_type": "code",
   "execution_count": 10,
   "id": "31949666-0574-464e-bcd5-88a166ff6ca5",
   "metadata": {},
   "outputs": [
    {
     "data": {
      "text/plain": [
       "array('i', [0, 1, 2, 3, 4, 5, 6, 7, 8, 9])"
      ]
     },
     "execution_count": 10,
     "metadata": {},
     "output_type": "execute_result"
    }
   ],
   "source": [
    "import array\n",
    "L = list(range(10))\n",
    "A = array.array('i',L)\n",
    "A\n",
    "# here i is the type code indicatating the contents are integers"
   ]
  },
  {
   "cell_type": "markdown",
   "id": "62697f10-81be-4618-9ff8-12f79803d08b",
   "metadata": {},
   "source": [
    "Creating Arrays from Python Lists"
   ]
  },
  {
   "cell_type": "code",
   "execution_count": 11,
   "id": "1d738938-0dcc-4365-aa98-6e98d5c2373f",
   "metadata": {},
   "outputs": [],
   "source": [
    "import numpy as np"
   ]
  },
  {
   "cell_type": "code",
   "execution_count": 13,
   "id": "4903a0aa-869a-4271-abf6-44bd0b2b6eea",
   "metadata": {},
   "outputs": [
    {
     "data": {
      "text/plain": [
       "array([1, 4, 2, 5, 3])"
      ]
     },
     "execution_count": 13,
     "metadata": {},
     "output_type": "execute_result"
    }
   ],
   "source": [
    "# integer array\n",
    "np.array([1, 4, 2, 5, 3])"
   ]
  },
  {
   "cell_type": "code",
   "execution_count": 15,
   "id": "f2b00e9a-3d4f-4194-9617-30f997145b45",
   "metadata": {},
   "outputs": [
    {
     "data": {
      "text/plain": [
       "array([3.14, 4.  , 2.  , 3.  ])"
      ]
     },
     "execution_count": 15,
     "metadata": {},
     "output_type": "execute_result"
    }
   ],
   "source": [
    "#Remember that unlike Python lists, NumPy arrays can only contain data of the same type. If the types do not match, NumPy will upcast them according to its type promo‐tion rules; here, integers are upcast to floating point\n",
    "np.array([3.14, 4, 2, 3])"
   ]
  },
  {
   "cell_type": "code",
   "execution_count": 17,
   "id": "58c1d410-5ad4-4ce7-8c18-8125c9a53302",
   "metadata": {},
   "outputs": [
    {
     "data": {
      "text/plain": [
       "array([1., 2., 3., 4.], dtype=float32)"
      ]
     },
     "execution_count": 17,
     "metadata": {},
     "output_type": "execute_result"
    }
   ],
   "source": [
    "# If we want to explicitly set the data type of the resulting array, we can use the dtype\n",
    "# keyword\n",
    "np.array([1, 2, 3, 4], dtype=np.float32)"
   ]
  },
  {
   "cell_type": "code",
   "execution_count": 19,
   "id": "8a9d7024-fcc9-45ad-9555-d44125dc707a",
   "metadata": {},
   "outputs": [
    {
     "data": {
      "text/plain": [
       "array([[2, 3, 4],\n",
       "       [4, 5, 6],\n",
       "       [6, 7, 8]])"
      ]
     },
     "execution_count": 19,
     "metadata": {},
     "output_type": "execute_result"
    }
   ],
   "source": [
    "# Nested lists result in multidimensional arrays\n",
    "np.array([range(i, i + 3) for i in [2, 4, 6]])\n",
    "# This generates a list of range objects:\n",
    "# For i = 2, range(2, 5) → [2, 3, 4]\n",
    "# For i = 4, range(4, 7) → [4, 5, 6]\n",
    "# For i = 6, range(6, 9) → [6, 7, 8]"
   ]
  },
  {
   "cell_type": "markdown",
   "id": "9a8a440d-9a30-40a1-85d7-cdf1016cdb76",
   "metadata": {},
   "source": [
    "Creating Arrays from Scratch"
   ]
  },
  {
   "cell_type": "code",
   "execution_count": 21,
   "id": "1114be74-ca96-4e57-ada3-035b5723d99e",
   "metadata": {},
   "outputs": [
    {
     "data": {
      "text/plain": [
       "array([0, 0, 0, 0, 0, 0, 0, 0, 0, 0])"
      ]
     },
     "execution_count": 21,
     "metadata": {},
     "output_type": "execute_result"
    }
   ],
   "source": [
    "# Create a length-10 integer array filled with 0s\n",
    "np.zeros(10, dtype=int)"
   ]
  },
  {
   "cell_type": "code",
   "execution_count": 22,
   "id": "03749287-92ad-462b-9afc-d343126a8c2b",
   "metadata": {},
   "outputs": [
    {
     "data": {
      "text/plain": [
       "array([[1., 1., 1., 1., 1.],\n",
       "       [1., 1., 1., 1., 1.],\n",
       "       [1., 1., 1., 1., 1.]])"
      ]
     },
     "execution_count": 22,
     "metadata": {},
     "output_type": "execute_result"
    }
   ],
   "source": [
    "# Create a 3x5 floating-point array filled with 1s\n",
    "np.ones((3,5), dtype=float)"
   ]
  },
  {
   "cell_type": "code",
   "execution_count": 25,
   "id": "1b147f08-700f-4eec-8c35-c628df051d41",
   "metadata": {},
   "outputs": [
    {
     "data": {
      "text/plain": [
       "array([ 0,  2,  4,  6,  8, 10, 12, 14, 16, 18])"
      ]
     },
     "execution_count": 25,
     "metadata": {},
     "output_type": "execute_result"
    }
   ],
   "source": [
    "# Create an array filled with a linear sequence\n",
    "# starting at 0, ending at 20, stepping by 2\n",
    "# (this is similar to the built-in range function)\n",
    "np.arange(0, 20, 2)"
   ]
  },
  {
   "cell_type": "code",
   "execution_count": 27,
   "id": "d0ec2618-ea16-4c42-8aac-100b4a941205",
   "metadata": {},
   "outputs": [
    {
     "data": {
      "text/plain": [
       "array([0.  , 0.25, 0.5 , 0.75, 1.  ])"
      ]
     },
     "execution_count": 27,
     "metadata": {},
     "output_type": "execute_result"
    }
   ],
   "source": [
    "# Create an array of five values evenly spaced between 0 and 1\n",
    "np.linspace(0, 1, 5)"
   ]
  },
  {
   "cell_type": "code",
   "execution_count": 28,
   "id": "a80edc92-958b-41a8-a3af-5685de19b2c0",
   "metadata": {},
   "outputs": [
    {
     "data": {
      "text/plain": [
       "array([[0.0424089 , 0.91459059, 0.92647835],\n",
       "       [0.48174497, 0.14946251, 0.74794077],\n",
       "       [0.10552558, 0.50886685, 0.56987746]])"
      ]
     },
     "execution_count": 28,
     "metadata": {},
     "output_type": "execute_result"
    }
   ],
   "source": [
    "# Create a 3x3 array of uniformly distributed\n",
    "# pseudorandom values between 0 and 1\n",
    "np.random.random((3,3))"
   ]
  },
  {
   "cell_type": "code",
   "execution_count": 30,
   "id": "7441c7ce-bcb1-40a4-a3ce-1136b76613fb",
   "metadata": {},
   "outputs": [
    {
     "data": {
      "text/plain": [
       "array([[ 0.1631638 ,  0.40286825, -0.12448154],\n",
       "       [-0.2521594 , -0.69958179,  0.35020035],\n",
       "       [ 0.38074337, -1.25731871,  0.52519489]])"
      ]
     },
     "execution_count": 30,
     "metadata": {},
     "output_type": "execute_result"
    }
   ],
   "source": [
    "# Create a 3x3 array of normally distributed pseudorandom\n",
    "# values with mean 0 and standard deviation 1\n",
    "np.random.normal(0, 1, (3, 3))\n",
    "# generates a 3x3 NumPy array of random values drawn from a normal (Gaussian) distribution with:\n",
    "# mean (loc) = 0\n",
    "# standard deviation (scale) = 1\n",
    "# shape = (3, 3)"
   ]
  },
  {
   "cell_type": "code",
   "execution_count": 31,
   "id": "ad5bb4d6-6d5f-48e9-bddf-cfb7c5687341",
   "metadata": {},
   "outputs": [
    {
     "data": {
      "text/plain": [
       "array([[4, 7, 4],\n",
       "       [8, 7, 0],\n",
       "       [3, 8, 2]], dtype=int32)"
      ]
     },
     "execution_count": 31,
     "metadata": {},
     "output_type": "execute_result"
    }
   ],
   "source": [
    "# Create a 3x3 array of pseudorandom integers in the interval [0, 10)\n",
    "np.random.randint(0, 10, (3, 3))"
   ]
  },
  {
   "cell_type": "code",
   "execution_count": 32,
   "id": "9341ebe7-2418-4c40-b425-63a7362604f0",
   "metadata": {},
   "outputs": [
    {
     "data": {
      "text/plain": [
       "array([[1., 0., 0.],\n",
       "       [0., 1., 0.],\n",
       "       [0., 0., 1.]])"
      ]
     },
     "execution_count": 32,
     "metadata": {},
     "output_type": "execute_result"
    }
   ],
   "source": [
    "# Create a 3*3 identity matrix\n",
    "np.eye(3)"
   ]
  },
  {
   "cell_type": "code",
   "execution_count": 33,
   "id": "e0411f3c-e59b-406a-9262-156408084ecf",
   "metadata": {},
   "outputs": [
    {
     "data": {
      "text/plain": [
       "array([1., 1., 1.])"
      ]
     },
     "execution_count": 33,
     "metadata": {},
     "output_type": "execute_result"
    }
   ],
   "source": [
    "# Create an uninitialized array of three integers; the values will be\n",
    "# whatever happens to already exist at that memory location\n",
    "np.empty(3)"
   ]
  },
  {
   "cell_type": "code",
   "execution_count": null,
   "id": "0f50dae6-ee51-407e-924b-6c5fab879969",
   "metadata": {},
   "outputs": [],
   "source": []
  }
 ],
 "metadata": {
  "kernelspec": {
   "display_name": "Python 3",
   "language": "python",
   "name": "python3"
  },
  "language_info": {
   "codemirror_mode": {
    "name": "ipython",
    "version": 3
   },
   "file_extension": ".py",
   "mimetype": "text/x-python",
   "name": "python",
   "nbconvert_exporter": "python",
   "pygments_lexer": "ipython3",
   "version": "3.13.2"
  }
 },
 "nbformat": 4,
 "nbformat_minor": 5
}
