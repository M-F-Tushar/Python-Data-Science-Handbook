{
 "cells": [
  {
   "cell_type": "markdown",
   "id": "619becaf",
   "metadata": {},
   "source": [
    "1. Summing the Values in an Array"
   ]
  },
  {
   "cell_type": "code",
   "execution_count": null,
   "id": "ce73fbf5",
   "metadata": {},
   "outputs": [],
   "source": [
    "import numpy as np\n",
    "rng = np.random.default_rng() # Seed the random number generator for reproducibility"
   ]
  },
  {
   "cell_type": "code",
   "execution_count": null,
   "id": "2274ecf6",
   "metadata": {},
   "outputs": [
    {
     "data": {
      "text/plain": [
       "np.float64(46.40803781975379)"
      ]
     },
     "execution_count": 2,
     "metadata": {},
     "output_type": "execute_result"
    }
   ],
   "source": [
    "L = rng.random(100) # Generate 100 random numbers\n",
    "sum(L) # Output the sum of the random numbers\n",
    "# each number is uniformly distributed between 0 and 1, so the expected sum for 100 numbers is around 50."
   ]
  },
  {
   "cell_type": "code",
   "execution_count": 3,
   "id": "e9c49c36",
   "metadata": {},
   "outputs": [
    {
     "data": {
      "text/plain": [
       "np.float64(46.408037819753815)"
      ]
     },
     "execution_count": 3,
     "metadata": {},
     "output_type": "execute_result"
    }
   ],
   "source": [
    "np.sum(L) # Use numpy's sum function to compute the sum of the array\n",
    "# This is equivalent to the previous sum, but uses numpy's optimized function for potentially better performance."
   ]
  },
  {
   "cell_type": "code",
   "execution_count": 4,
   "id": "e0d6550b",
   "metadata": {},
   "outputs": [
    {
     "name": "stdout",
     "output_type": "stream",
     "text": [
      "75.2 ms ± 1.35 ms per loop (mean ± std. dev. of 7 runs, 10 loops each)\n",
      "572 μs ± 40 μs per loop (mean ± std. dev. of 7 runs, 1,000 loops each)\n"
     ]
    }
   ],
   "source": [
    "big_array = rng.random(1000000) # Generate a larger array with 1,000,000 random numbers\n",
    "%timeit sum(big_array) # Measure the time taken to compute the sum using the built-in sum function\n",
    "%timeit np.sum(big_array) # Measure the time taken to compute the sum using numpy's optimized function"
   ]
  },
  {
   "cell_type": "markdown",
   "id": "aebedd29",
   "metadata": {},
   "source": [
    "Be careful, though: the sum function and the np.sum function are not identical, which\n",
    "can sometimes lead to confusion! In particular, their optional arguments have differ‐\n",
    "ent meanings (sum(x, 1) initializes the sum at 1, while np.sum(x, 1) sums along\n",
    "axis 1), and np.sum is aware of multiple array dimensions"
   ]
  },
  {
   "cell_type": "markdown",
   "id": "6b8bc180",
   "metadata": {},
   "source": [
    "2. Maximum and Minimum"
   ]
  },
  {
   "cell_type": "code",
   "execution_count": 8,
   "id": "01b0fab8",
   "metadata": {},
   "outputs": [
    {
     "data": {
      "text/plain": [
       "(np.float64(1.5134143506179143e-06), np.float64(0.9999977014095681))"
      ]
     },
     "execution_count": 8,
     "metadata": {},
     "output_type": "execute_result"
    }
   ],
   "source": [
    "min(big_array), max(big_array) # Find the minimum and maximum value in the large array using python's built-in min and max functions"
   ]
  },
  {
   "cell_type": "code",
   "execution_count": 9,
   "id": "2bc58d38",
   "metadata": {},
   "outputs": [
    {
     "data": {
      "text/plain": [
       "(np.float64(1.5134143506179143e-06), np.float64(0.9999977014095681))"
      ]
     },
     "execution_count": 9,
     "metadata": {},
     "output_type": "execute_result"
    }
   ],
   "source": [
    "np.min(big_array), np.max(big_array) # Use numpy's functions to find the minimum and maximum values\n",
    "# The numpy functions are generally faster and more efficient for large arrays."
   ]
  },
  {
   "cell_type": "code",
   "execution_count": 10,
   "id": "3eda4cc7",
   "metadata": {},
   "outputs": [
    {
     "name": "stdout",
     "output_type": "stream",
     "text": [
      "57.2 ms ± 972 μs per loop (mean ± std. dev. of 7 runs, 10 loops each)\n",
      "312 μs ± 21.1 μs per loop (mean ± std. dev. of 7 runs, 1,000 loops each)\n"
     ]
    }
   ],
   "source": [
    "%timeit min(big_array) # Measure the time taken to find the minimum value using the built-in function\n",
    "%timeit np.min(big_array) # Measure the time taken to find the minimum value using numpy's function"
   ]
  },
  {
   "cell_type": "code",
   "execution_count": 11,
   "id": "709481e6",
   "metadata": {},
   "outputs": [],
   "source": [
    "# For min, max, sum, and several other NumPy aggregates, a shorter syntax is to use\n",
    "# methods of the array object itself:"
   ]
  },
  {
   "cell_type": "code",
   "execution_count": 12,
   "id": "18f7e327",
   "metadata": {},
   "outputs": [
    {
     "name": "stdout",
     "output_type": "stream",
     "text": [
      "1.5134143506179143e-06 0.9999977014095681 500160.9033093645\n"
     ]
    }
   ],
   "source": [
    "print(big_array.min(), big_array.max(), big_array.sum()) # Use methods of the numpy array object to find min, max, and sum\n",
    "# This is often more readable and can be more efficient than using the standalone functions."
   ]
  },
  {
   "cell_type": "markdown",
   "id": "0a900fde",
   "metadata": {},
   "source": [
    "3. Multidimensional Aggregates"
   ]
  },
  {
   "cell_type": "code",
   "execution_count": 13,
   "id": "543c04f8",
   "metadata": {},
   "outputs": [
    {
     "name": "stdout",
     "output_type": "stream",
     "text": [
      "[[6 0 5 6]\n",
      " [4 1 1 0]\n",
      " [6 5 2 6]]\n"
     ]
    }
   ],
   "source": [
    "M = rng.integers(0, 10, (3, 4)) # Generate a 3x4 array of random integers between 0 and 10\n",
    "print(M) # Print the generated array"
   ]
  },
  {
   "cell_type": "code",
   "execution_count": 14,
   "id": "7008081e",
   "metadata": {},
   "outputs": [
    {
     "data": {
      "text/plain": [
       "np.int64(42)"
      ]
     },
     "execution_count": 14,
     "metadata": {},
     "output_type": "execute_result"
    }
   ],
   "source": [
    "M.sum() # Compute the sum of all elements in the array M\n",
    "# Numpy aggregations will apply across all elements of a multidimentional array"
   ]
  },
  {
   "cell_type": "code",
   "execution_count": 21,
   "id": "2c0bea0a",
   "metadata": {},
   "outputs": [
    {
     "data": {
      "text/plain": [
       "array([4, 0, 1, 0])"
      ]
     },
     "execution_count": 21,
     "metadata": {},
     "output_type": "execute_result"
    }
   ],
   "source": [
    "M.min(axis = 0)  # Find the minimum value along the first axis (columns) of the array M\n",
    "# The function returns four values, corresponding to the minimum of each column."
   ]
  },
  {
   "cell_type": "code",
   "execution_count": 22,
   "id": "9b345258",
   "metadata": {},
   "outputs": [
    {
     "data": {
      "text/plain": [
       "array([6, 4, 6])"
      ]
     },
     "execution_count": 22,
     "metadata": {},
     "output_type": "execute_result"
    }
   ],
   "source": [
    "\n",
    "M.max(axis = 1) # Find the maximum value along the second axis (rows) of the array M\n",
    "# "
   ]
  },
  {
   "cell_type": "markdown",
   "id": "3248092b",
   "metadata": {},
   "source": [
    "4. Other Aggregation Functions"
   ]
  },
  {
   "cell_type": "code",
   "execution_count": 23,
   "id": "fd7fe0d8",
   "metadata": {},
   "outputs": [
    {
     "data": {
      "text/plain": [
       "'\\n\\nTable 7-1. Aggregation functions available in NumPy\\nFunction name   NaN-safe version    Description\\nnp.sum              np.nansum       Compute sum of elements\\nnp.prod             np.nanprod      Compute product of elements\\nnp.mean             np.nanmean      Compute mean of elements\\nnp.std              np.nanstd       Compute standard deviation\\nnp.var              np.nanvar       Compute variance\\nnp.min              np.nanmin       Find minimum value\\nnp.max              np.nanmax       Find maximum value\\nnp.argmin           np.nanargmin    Find index of minimum value\\nnp.argmax           np.nanargmax    Find index of maximum value\\nnp.median           np.nanmedian    Compute median of elements\\nnp.percentile       np.nanpercentile Compute rank-based statistics of elements\\nnp.any              N/A             Evaluate whether any elements are true\\nnp.all              N/A             Evaluate whether all elements are true\\n\\n'"
      ]
     },
     "execution_count": 23,
     "metadata": {},
     "output_type": "execute_result"
    }
   ],
   "source": [
    "'''\n",
    "\n",
    "Table 7-1. Aggregation functions available in NumPy\n",
    "Function name   NaN-safe version    Description\n",
    "np.sum              np.nansum       Compute sum of elements\n",
    "np.prod             np.nanprod      Compute product of elements\n",
    "np.mean             np.nanmean      Compute mean of elements\n",
    "np.std              np.nanstd       Compute standard deviation\n",
    "np.var              np.nanvar       Compute variance\n",
    "np.min              np.nanmin       Find minimum value\n",
    "np.max              np.nanmax       Find maximum value\n",
    "np.argmin           np.nanargmin    Find index of minimum value\n",
    "np.argmax           np.nanargmax    Find index of maximum value\n",
    "np.median           np.nanmedian    Compute median of elements\n",
    "np.percentile       np.nanpercentile Compute rank-based statistics of elements\n",
    "np.any              N/A             Evaluate whether any elements are true\n",
    "np.all              N/A             Evaluate whether all elements are true\n",
    "\n",
    "'''"
   ]
  },
  {
   "cell_type": "code",
   "execution_count": 29,
   "id": "0515363c",
   "metadata": {},
   "outputs": [],
   "source": [
    "import pandas as pd\n",
    "data = pd.read_csv('Data/president_heights.csv')"
   ]
  },
  {
   "cell_type": "code",
   "execution_count": 30,
   "id": "7c7313f2",
   "metadata": {},
   "outputs": [
    {
     "name": "stdout",
     "output_type": "stream",
     "text": [
      "    order                    name  height(cm)\n",
      "0       1       George Washington         189\n",
      "1       2              John Adams         170\n",
      "2       3        Thomas Jefferson         189\n",
      "3       4           James Madison         163\n",
      "4       5            James Monroe         183\n",
      "5       6       John Quincy Adams         171\n",
      "6       7          Andrew Jackson         185\n",
      "7       8        Martin Van Buren         168\n",
      "8       9  William Henry Harrison         173\n",
      "9      10              John Tyler         183\n",
      "10     11           James K. Polk         173\n",
      "11     12          Zachary Taylor         173\n",
      "12     13        Millard Fillmore         175\n",
      "13     14         Franklin Pierce         178\n",
      "14     15          James Buchanan         183\n",
      "15     16         Abraham Lincoln         193\n",
      "16     17          Andrew Johnson         178\n",
      "17     18        Ulysses S. Grant         173\n",
      "18     19     Rutherford B. Hayes         174\n",
      "19     20       James A. Garfield         183\n",
      "20     21       Chester A. Arthur         183\n",
      "21     23       Benjamin Harrison         168\n",
      "22     25        William McKinley         170\n",
      "23     26      Theodore Roosevelt         178\n",
      "24     27     William Howard Taft         182\n",
      "25     28          Woodrow Wilson         180\n",
      "26     29       Warren G. Harding         183\n",
      "27     30         Calvin Coolidge         178\n",
      "28     31          Herbert Hoover         182\n",
      "29     32   Franklin D. Roosevelt         188\n",
      "30     33         Harry S. Truman         175\n",
      "31     34    Dwight D. Eisenhower         179\n",
      "32     35         John F. Kennedy         183\n",
      "33     36       Lyndon B. Johnson         193\n",
      "34     37           Richard Nixon         182\n",
      "35     38             Gerald Ford         183\n",
      "36     39            Jimmy Carter         177\n",
      "37     40           Ronald Reagan         185\n",
      "38     41       George H. W. Bush         188\n",
      "39     42            Bill Clinton         188\n",
      "40     43          George W. Bush         182\n",
      "41     44            Barack Obama         185\n",
      "42     45            Donald Trump         191\n",
      "43     46            Joseph Biden         182\n"
     ]
    }
   ],
   "source": [
    "print(data)"
   ]
  },
  {
   "cell_type": "code",
   "execution_count": 31,
   "id": "c74fa05f",
   "metadata": {},
   "outputs": [],
   "source": [
    "heights = np.array(data['height(cm)']) # Convert the heights column to a NumPy array"
   ]
  },
  {
   "cell_type": "code",
   "execution_count": 32,
   "id": "ea8d17e8",
   "metadata": {},
   "outputs": [
    {
     "name": "stdout",
     "output_type": "stream",
     "text": [
      "[189 170 189 163 183 171 185 168 173 183 173 173 175 178 183 193 178 173\n",
      " 174 183 183 168 170 178 182 180 183 178 182 188 175 179 183 193 182 183\n",
      " 177 185 188 188 182 185 191 182]\n"
     ]
    }
   ],
   "source": [
    "print(heights)"
   ]
  },
  {
   "cell_type": "code",
   "execution_count": 33,
   "id": "572eac41",
   "metadata": {},
   "outputs": [
    {
     "name": "stdout",
     "output_type": "stream",
     "text": [
      "Mean height: 180.04545454545453\n",
      "Standard deviation of heights: 6.983599441335736\n",
      "Minimum height: 163\n",
      "Maximum height: 193\n"
     ]
    }
   ],
   "source": [
    "print(\"Mean height:\", heights.mean()) # Compute the mean height using NumPy's mean function\n",
    "print(\"Standard deviation of heights:\", heights.std()) # Compute the standard deviation of heights using NumPy's std function\n",
    "print(\"Minimum height:\", heights.min()) # Find the minimum height using NumPy's min function\n",
    "print(\"Maximum height:\", heights.max()) # Find the maximum height using NumPy's max function"
   ]
  },
  {
   "cell_type": "code",
   "execution_count": null,
   "id": "7a998c5a",
   "metadata": {},
   "outputs": [],
   "source": [
    "print(\"25th percentile: \", np.percentile(heights, 25)) # This prints the 25th percentile (also called the first quartile, Q1). 25% of the values in the data are less than or equal to this value.\n",
    "print(\"Median: \", np.median(heights)) # This prints the median (or 50th percentile, Q2). It's the middle value when the data is sorted.\n",
    "print(\"75th percentile: \", np.percentile(heights, 75)) # This prints the 75th percentile (or third quartile, Q3). 75% of the values are less than or equal to this value."
   ]
  },
  {
   "cell_type": "code",
   "execution_count": 42,
   "id": "02e66310",
   "metadata": {},
   "outputs": [],
   "source": [
    "%matplotlib inline\n",
    "import seaborn as sns\n",
    "import matplotlib.pyplot as plt\n",
    "\n",
    "sns.set_style('whitegrid')"
   ]
  },
  {
   "cell_type": "code",
   "execution_count": 44,
   "id": "7ea55471",
   "metadata": {},
   "outputs": [
    {
     "data": {
      "image/png": "[encoded data removed]",
      "text/plain": [
       "<Figure size 640x480 with 1 Axes>"
      ]
     },
     "metadata": {},
     "output_type": "display_data"
    }
   ],
   "source": [
    "plt.hist(heights) # Create a histogram of the heights\n",
    "plt.title('Height Distribution of US Presidents') # Set the title of the plot\n",
    "plt.xlabel('height (cm)') # Set the x-axis label\n",
    "plt.ylabel('number');\n",
    "plt.show() # Display the plot"
   ]
  },
  {
   "cell_type": "code",
   "execution_count": null,
   "id": "8393ecfe",
   "metadata": {},
   "outputs": [],
   "source": []
  }
 ],
 "metadata": {
  "kernelspec": {
   "display_name": "Python 3",
   "language": "python",
   "name": "python3"
  },
  "language_info": {
   "codemirror_mode": {
    "name": "ipython",
    "version": 3
   },
   "file_extension": ".py",
   "mimetype": "text/x-python",
   "name": "python",
   "nbconvert_exporter": "python",
   "pygments_lexer": "ipython3",
   "version": "3.13.2"
  }
 },
 "nbformat": 4,
 "nbformat_minor": 5
}
